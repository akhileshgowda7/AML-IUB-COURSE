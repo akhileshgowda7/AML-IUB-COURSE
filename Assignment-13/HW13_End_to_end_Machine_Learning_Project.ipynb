{
 "cells": [
  {
   "cell_type": "markdown",
   "metadata": {},
   "source": [
    "# Homework  Task\n",
    "\n",
    "In module 9 we learned how to solve a problem from end to end using SKLearn and pipelines.\n",
    "In this homework, we adopt this end to end pipeline to tackle the Titanic Survival problem.\n",
    "Adopt the machine learning pipeline above to tackle the Titanic problem. \n",
    "## Submission instructions\n",
    "1. Before completing this homework,\n",
    "    * please review this homework's submission form on Canvas available under the \"Modules\" menu option and \n",
    "    * briefly review this notebook end to end. \n",
    "* To get you started we provide a template solution with missing code and prompts. Please complete the missing code, run the experiments and log your results.\n",
    "* When you're sufficiently happy with your results, please begin the submission process on Canvas. Use the submission form for this homework available under \"Modules\" menu option. Please note that the submission form is available at the same place where you downloaded the homework from.\n",
    "* You may wish to reference this quiz while working through the tasks.\n",
    "\n",
    "You will need to:\n",
    "\n",
    "\n",
    "* __EDA.__ Identify the types of data available, evaluate basic statistical information about the data and determine whether you have any missing or misformated data.\n",
    "\n",
    "* __Feature Engineering.__  Develop at least one new feature.  The following [webpage](http://trevorstephens.com/kaggle-titanic-tutorial/r-part-4-feature-engineering/) has some great ideas for creating new features on the Titanic dataset.\n",
    "* __Pre-processing.__  All work must be performed using pipelines.  You can adapt code from above or develop your own.\n",
    "* __Modeling.__ Evaluate at least two appropriate algorithms (estimators) for generating predictions.\n",
    "    * Use grid search to tune hyperparameters.\n",
    "    * Use crossfold evaluation (cv=5).\n",
    "* __Evaluation.__ Select appropriate metrics for the problem to evaluate your models.\n",
    "* __Reporting.__ Record all experiments in a table of results (pandas dataframe) including at least the following information:  \n",
    "    * description of the model (algorithim, notable processing steps) \n",
    "    * key hyperparameters\n",
    "    * results (using one or more appropriate metrics)\n",
    "    * run time for each experiment (train and test results)\n",
    "    * hardware used\n",
    "* __Analysis__. Perform a significance test on your best models and discuss results (see Module 09.5 in Canvas for a video lecture on significance testing).\n",
    "\n",
    "Your final pipeline will take the following format:\n",
    "\n",
    "<PRE>\n",
    "full_pipeline_with_predictor = Pipeline([\n",
    "        (\"preparation\", full_pipeline),  # combination of numerical and categorical pipelines\n",
    "        (\"logRegression\", LogisticRegression())  # replace with whatever estimator(s) you are using\n",
    "    ])\n",
    "\n",
    "</PRE>\n"
   ]
  },
  {
   "cell_type": "markdown",
   "metadata": {},
   "source": [
    "# Prepare the notebook (imports, helper functions, etc.)"
   ]
  },
  {
   "cell_type": "code",
   "execution_count": 28,
   "metadata": {
    "ExecuteTime": {
     "end_time": "2018-11-09T00:16:15.867443Z",
     "start_time": "2018-11-09T00:16:11.144352Z"
    }
   },
   "outputs": [],
   "source": [
    "# imports\n",
    "import warnings\n",
    "warnings.simplefilter('ignore')\n",
    "\n",
    "import numpy as np\n",
    "import pandas as pd\n",
    "import seaborn as sns\n",
    "import matplotlib.pyplot as plt\n",
    "%matplotlib inline\n",
    "\n",
    "import re\n",
    "from time import time\n",
    "from scipy import stats\n",
    "import json\n",
    "\n",
    "from sklearn.base import BaseEstimator, TransformerMixin\n",
    "from sklearn.model_selection import train_test_split\n",
    "from sklearn.pipeline import Pipeline\n",
    "from sklearn.impute import SimpleImputer\n",
    "from sklearn.preprocessing import StandardScaler\n",
    "from sklearn.preprocessing import OneHotEncoder\n",
    "\n",
    "from sklearn.model_selection import ShuffleSplit\n",
    "from sklearn.model_selection import cross_val_score\n",
    "from sklearn.model_selection import GridSearchCV\n",
    "\n",
    "from sklearn.linear_model import LogisticRegression\n",
    "from sklearn.neighbors import KNeighborsClassifier\n",
    "from sklearn.naive_bayes import GaussianNB\n",
    "from sklearn.svm import SVC\n",
    "from sklearn.linear_model import SGDClassifier\n",
    "from sklearn.ensemble import RandomForestClassifier"
   ]
  },
  {
   "cell_type": "code",
   "execution_count": 29,
   "metadata": {
    "ExecuteTime": {
     "end_time": "2018-11-09T00:16:15.948484Z",
     "start_time": "2018-11-09T00:16:15.889730Z"
    }
   },
   "outputs": [],
   "source": [
    "# Imports for metrics\n",
    "from sklearn.model_selection import cross_val_score, ShuffleSplit\n",
    "# Imports for stats\n",
    "from scipy import stats\n",
    "                       \n",
    "# Convert a number to a percent.    \n",
    "def pct(x):\n",
    "    return round(100*x,1)\n",
    "\n",
    "# Set up reporting\n",
    "import pandas as pd\n",
    "results = pd.DataFrame(columns=[\"ExpID\", \"Train accuracy\", \"Cross fold validation Accuracy\" ,\"Test Accuracy\", \"p-value\", \"Train Time(s)\", \"Test Time(s)\", \"Experiment description\"])\n",
    "\n",
    "# Set up ShuffleSplit for p_value testing\n",
    "cv = ShuffleSplit(n_splits=30, test_size=0.3, random_state=0)"
   ]
  },
  {
   "cell_type": "code",
   "execution_count": 30,
   "metadata": {
    "ExecuteTime": {
     "end_time": "2018-11-09T00:16:15.964536Z",
     "start_time": "2018-11-09T00:16:15.960033Z"
    }
   },
   "outputs": [],
   "source": [
    "def ttest(control, treatment):\n",
    "    #paired t-test; two-tailed p-value      A   ,    B\n",
    "    (t_score, p_value) = stats.ttest_rel(control, treatment)\n",
    "\n",
    "    if p_value > 0.05/2:  #Two sided \n",
    "        print('There is no significant difference between the two machine learning pipelines (Accept H0)')\n",
    "    else:\n",
    "        print('The two machine learning pipelines are different (reject H0) \\n(t_score, p_value) = (%.2f, %.5f)'%(t_score, p_value) )\n",
    "        if t_score > 0.0: #in the case of regression lower RMSE is better; A is lower \n",
    "            print('Machine learning pipeline A is better than B')\n",
    "        else:\n",
    "            print('Machine learning pipeline B is better than A')\n",
    "    return p_value"
   ]
  },
  {
   "cell_type": "markdown",
   "metadata": {},
   "source": [
    "# Data import and EDA"
   ]
  },
  {
   "cell_type": "code",
   "execution_count": 31,
   "metadata": {
    "ExecuteTime": {
     "end_time": "2018-11-09T00:16:15.988448Z",
     "start_time": "2018-11-09T00:16:15.973642Z"
    }
   },
   "outputs": [],
   "source": [
    "data = pd.read_csv('datasets/titanic/train.csv')\n",
    "y = data['Survived']\n",
    "x = data.drop(['Survived', 'Ticket', 'Cabin'], axis = 1)"
   ]
  },
  {
   "cell_type": "code",
   "execution_count": 32,
   "metadata": {
    "ExecuteTime": {
     "end_time": "2018-11-09T00:16:16.039694Z",
     "start_time": "2018-11-09T00:16:16.025594Z"
    }
   },
   "outputs": [
    {
     "data": {
      "text/html": [
       "<div>\n",
       "<style scoped>\n",
       "    .dataframe tbody tr th:only-of-type {\n",
       "        vertical-align: middle;\n",
       "    }\n",
       "\n",
       "    .dataframe tbody tr th {\n",
       "        vertical-align: top;\n",
       "    }\n",
       "\n",
       "    .dataframe thead th {\n",
       "        text-align: right;\n",
       "    }\n",
       "</style>\n",
       "<table border=\"1\" class=\"dataframe\">\n",
       "  <thead>\n",
       "    <tr style=\"text-align: right;\">\n",
       "      <th></th>\n",
       "      <th>PassengerId</th>\n",
       "      <th>Survived</th>\n",
       "      <th>Pclass</th>\n",
       "      <th>Name</th>\n",
       "      <th>Sex</th>\n",
       "      <th>Age</th>\n",
       "      <th>SibSp</th>\n",
       "      <th>Parch</th>\n",
       "      <th>Ticket</th>\n",
       "      <th>Fare</th>\n",
       "      <th>Cabin</th>\n",
       "      <th>Embarked</th>\n",
       "    </tr>\n",
       "  </thead>\n",
       "  <tbody>\n",
       "    <tr>\n",
       "      <th>0</th>\n",
       "      <td>1</td>\n",
       "      <td>0</td>\n",
       "      <td>3</td>\n",
       "      <td>Braund, Mr. Owen Harris</td>\n",
       "      <td>male</td>\n",
       "      <td>22.0</td>\n",
       "      <td>1</td>\n",
       "      <td>0</td>\n",
       "      <td>A/5 21171</td>\n",
       "      <td>7.2500</td>\n",
       "      <td>NaN</td>\n",
       "      <td>S</td>\n",
       "    </tr>\n",
       "    <tr>\n",
       "      <th>1</th>\n",
       "      <td>2</td>\n",
       "      <td>1</td>\n",
       "      <td>1</td>\n",
       "      <td>Cumings, Mrs. John Bradley (Florence Briggs Th...</td>\n",
       "      <td>female</td>\n",
       "      <td>38.0</td>\n",
       "      <td>1</td>\n",
       "      <td>0</td>\n",
       "      <td>PC 17599</td>\n",
       "      <td>71.2833</td>\n",
       "      <td>C85</td>\n",
       "      <td>C</td>\n",
       "    </tr>\n",
       "    <tr>\n",
       "      <th>2</th>\n",
       "      <td>3</td>\n",
       "      <td>1</td>\n",
       "      <td>3</td>\n",
       "      <td>Heikkinen, Miss. Laina</td>\n",
       "      <td>female</td>\n",
       "      <td>26.0</td>\n",
       "      <td>0</td>\n",
       "      <td>0</td>\n",
       "      <td>STON/O2. 3101282</td>\n",
       "      <td>7.9250</td>\n",
       "      <td>NaN</td>\n",
       "      <td>S</td>\n",
       "    </tr>\n",
       "    <tr>\n",
       "      <th>3</th>\n",
       "      <td>4</td>\n",
       "      <td>1</td>\n",
       "      <td>1</td>\n",
       "      <td>Futrelle, Mrs. Jacques Heath (Lily May Peel)</td>\n",
       "      <td>female</td>\n",
       "      <td>35.0</td>\n",
       "      <td>1</td>\n",
       "      <td>0</td>\n",
       "      <td>113803</td>\n",
       "      <td>53.1000</td>\n",
       "      <td>C123</td>\n",
       "      <td>S</td>\n",
       "    </tr>\n",
       "    <tr>\n",
       "      <th>4</th>\n",
       "      <td>5</td>\n",
       "      <td>0</td>\n",
       "      <td>3</td>\n",
       "      <td>Allen, Mr. William Henry</td>\n",
       "      <td>male</td>\n",
       "      <td>35.0</td>\n",
       "      <td>0</td>\n",
       "      <td>0</td>\n",
       "      <td>373450</td>\n",
       "      <td>8.0500</td>\n",
       "      <td>NaN</td>\n",
       "      <td>S</td>\n",
       "    </tr>\n",
       "  </tbody>\n",
       "</table>\n",
       "</div>"
      ],
      "text/plain": [
       "   PassengerId  Survived  Pclass  \\\n",
       "0            1         0       3   \n",
       "1            2         1       1   \n",
       "2            3         1       3   \n",
       "3            4         1       1   \n",
       "4            5         0       3   \n",
       "\n",
       "                                                Name     Sex   Age  SibSp  \\\n",
       "0                            Braund, Mr. Owen Harris    male  22.0      1   \n",
       "1  Cumings, Mrs. John Bradley (Florence Briggs Th...  female  38.0      1   \n",
       "2                             Heikkinen, Miss. Laina  female  26.0      0   \n",
       "3       Futrelle, Mrs. Jacques Heath (Lily May Peel)  female  35.0      1   \n",
       "4                           Allen, Mr. William Henry    male  35.0      0   \n",
       "\n",
       "   Parch            Ticket     Fare Cabin Embarked  \n",
       "0      0         A/5 21171   7.2500   NaN        S  \n",
       "1      0          PC 17599  71.2833   C85        C  \n",
       "2      0  STON/O2. 3101282   7.9250   NaN        S  \n",
       "3      0            113803  53.1000  C123        S  \n",
       "4      0            373450   8.0500   NaN        S  "
      ]
     },
     "execution_count": 32,
     "metadata": {},
     "output_type": "execute_result"
    }
   ],
   "source": [
    "data.head()"
   ]
  },
  {
   "cell_type": "code",
   "execution_count": 33,
   "metadata": {
    "ExecuteTime": {
     "end_time": "2018-11-09T00:16:16.090140Z",
     "start_time": "2018-11-09T00:16:16.080622Z"
    }
   },
   "outputs": [
    {
     "name": "stdout",
     "output_type": "stream",
     "text": [
      "<class 'pandas.core.frame.DataFrame'>\n",
      "RangeIndex: 891 entries, 0 to 890\n",
      "Data columns (total 12 columns):\n",
      " #   Column       Non-Null Count  Dtype  \n",
      "---  ------       --------------  -----  \n",
      " 0   PassengerId  891 non-null    int64  \n",
      " 1   Survived     891 non-null    int64  \n",
      " 2   Pclass       891 non-null    int64  \n",
      " 3   Name         891 non-null    object \n",
      " 4   Sex          891 non-null    object \n",
      " 5   Age          714 non-null    float64\n",
      " 6   SibSp        891 non-null    int64  \n",
      " 7   Parch        891 non-null    int64  \n",
      " 8   Ticket       891 non-null    object \n",
      " 9   Fare         891 non-null    float64\n",
      " 10  Cabin        204 non-null    object \n",
      " 11  Embarked     889 non-null    object \n",
      "dtypes: float64(2), int64(5), object(5)\n",
      "memory usage: 83.7+ KB\n"
     ]
    }
   ],
   "source": [
    "data.info()"
   ]
  },
  {
   "cell_type": "code",
   "execution_count": 34,
   "metadata": {
    "ExecuteTime": {
     "end_time": "2018-11-09T00:16:16.165817Z",
     "start_time": "2018-11-09T00:16:16.127612Z"
    },
    "scrolled": true
   },
   "outputs": [
    {
     "data": {
      "text/html": [
       "<div>\n",
       "<style scoped>\n",
       "    .dataframe tbody tr th:only-of-type {\n",
       "        vertical-align: middle;\n",
       "    }\n",
       "\n",
       "    .dataframe tbody tr th {\n",
       "        vertical-align: top;\n",
       "    }\n",
       "\n",
       "    .dataframe thead th {\n",
       "        text-align: right;\n",
       "    }\n",
       "</style>\n",
       "<table border=\"1\" class=\"dataframe\">\n",
       "  <thead>\n",
       "    <tr style=\"text-align: right;\">\n",
       "      <th></th>\n",
       "      <th>PassengerId</th>\n",
       "      <th>Survived</th>\n",
       "      <th>Pclass</th>\n",
       "      <th>Age</th>\n",
       "      <th>SibSp</th>\n",
       "      <th>Parch</th>\n",
       "      <th>Fare</th>\n",
       "    </tr>\n",
       "  </thead>\n",
       "  <tbody>\n",
       "    <tr>\n",
       "      <th>count</th>\n",
       "      <td>891.000000</td>\n",
       "      <td>891.000000</td>\n",
       "      <td>891.000000</td>\n",
       "      <td>714.000000</td>\n",
       "      <td>891.000000</td>\n",
       "      <td>891.000000</td>\n",
       "      <td>891.000000</td>\n",
       "    </tr>\n",
       "    <tr>\n",
       "      <th>mean</th>\n",
       "      <td>446.000000</td>\n",
       "      <td>0.383838</td>\n",
       "      <td>2.308642</td>\n",
       "      <td>29.699118</td>\n",
       "      <td>0.523008</td>\n",
       "      <td>0.381594</td>\n",
       "      <td>32.204208</td>\n",
       "    </tr>\n",
       "    <tr>\n",
       "      <th>std</th>\n",
       "      <td>257.353842</td>\n",
       "      <td>0.486592</td>\n",
       "      <td>0.836071</td>\n",
       "      <td>14.526497</td>\n",
       "      <td>1.102743</td>\n",
       "      <td>0.806057</td>\n",
       "      <td>49.693429</td>\n",
       "    </tr>\n",
       "    <tr>\n",
       "      <th>min</th>\n",
       "      <td>1.000000</td>\n",
       "      <td>0.000000</td>\n",
       "      <td>1.000000</td>\n",
       "      <td>0.420000</td>\n",
       "      <td>0.000000</td>\n",
       "      <td>0.000000</td>\n",
       "      <td>0.000000</td>\n",
       "    </tr>\n",
       "    <tr>\n",
       "      <th>25%</th>\n",
       "      <td>223.500000</td>\n",
       "      <td>0.000000</td>\n",
       "      <td>2.000000</td>\n",
       "      <td>20.125000</td>\n",
       "      <td>0.000000</td>\n",
       "      <td>0.000000</td>\n",
       "      <td>7.910400</td>\n",
       "    </tr>\n",
       "    <tr>\n",
       "      <th>50%</th>\n",
       "      <td>446.000000</td>\n",
       "      <td>0.000000</td>\n",
       "      <td>3.000000</td>\n",
       "      <td>28.000000</td>\n",
       "      <td>0.000000</td>\n",
       "      <td>0.000000</td>\n",
       "      <td>14.454200</td>\n",
       "    </tr>\n",
       "    <tr>\n",
       "      <th>75%</th>\n",
       "      <td>668.500000</td>\n",
       "      <td>1.000000</td>\n",
       "      <td>3.000000</td>\n",
       "      <td>38.000000</td>\n",
       "      <td>1.000000</td>\n",
       "      <td>0.000000</td>\n",
       "      <td>31.000000</td>\n",
       "    </tr>\n",
       "    <tr>\n",
       "      <th>max</th>\n",
       "      <td>891.000000</td>\n",
       "      <td>1.000000</td>\n",
       "      <td>3.000000</td>\n",
       "      <td>80.000000</td>\n",
       "      <td>8.000000</td>\n",
       "      <td>6.000000</td>\n",
       "      <td>512.329200</td>\n",
       "    </tr>\n",
       "  </tbody>\n",
       "</table>\n",
       "</div>"
      ],
      "text/plain": [
       "       PassengerId    Survived      Pclass         Age       SibSp  \\\n",
       "count   891.000000  891.000000  891.000000  714.000000  891.000000   \n",
       "mean    446.000000    0.383838    2.308642   29.699118    0.523008   \n",
       "std     257.353842    0.486592    0.836071   14.526497    1.102743   \n",
       "min       1.000000    0.000000    1.000000    0.420000    0.000000   \n",
       "25%     223.500000    0.000000    2.000000   20.125000    0.000000   \n",
       "50%     446.000000    0.000000    3.000000   28.000000    0.000000   \n",
       "75%     668.500000    1.000000    3.000000   38.000000    1.000000   \n",
       "max     891.000000    1.000000    3.000000   80.000000    8.000000   \n",
       "\n",
       "            Parch        Fare  \n",
       "count  891.000000  891.000000  \n",
       "mean     0.381594   32.204208  \n",
       "std      0.806057   49.693429  \n",
       "min      0.000000    0.000000  \n",
       "25%      0.000000    7.910400  \n",
       "50%      0.000000   14.454200  \n",
       "75%      0.000000   31.000000  \n",
       "max      6.000000  512.329200  "
      ]
     },
     "execution_count": 34,
     "metadata": {},
     "output_type": "execute_result"
    }
   ],
   "source": [
    "data.describe()"
   ]
  },
  {
   "cell_type": "code",
   "execution_count": 35,
   "metadata": {
    "ExecuteTime": {
     "end_time": "2018-11-09T00:16:16.215163Z",
     "start_time": "2018-11-09T00:16:16.206634Z"
    }
   },
   "outputs": [
    {
     "data": {
      "text/plain": [
       "Survived       1.000000\n",
       "Fare           0.257307\n",
       "Parch          0.081629\n",
       "PassengerId   -0.005007\n",
       "SibSp         -0.035322\n",
       "Age           -0.077221\n",
       "Pclass        -0.338481\n",
       "Name: Survived, dtype: float64"
      ]
     },
     "execution_count": 35,
     "metadata": {},
     "output_type": "execute_result"
    }
   ],
   "source": [
    "# Show the correlation of the Survived column with the features\n",
    "corr_matrix = data.corr()\n",
    "corr_matrix[\"Survived\"].sort_values(ascending=False)"
   ]
  },
  {
   "cell_type": "markdown",
   "metadata": {},
   "source": [
    "## Correlation Observations\n",
    "The goal of this section is to get familiar with the data that will be used for the end to end pipeline. It is very important to explore the data and summarize its main characteristics before diving in the machine learning models. It is also interesting to see how the different features are correlated with the target feature\n",
    "\n",
    "* *Fare* and *Pclass* are the most highly correlated with survivorship. A higher fare indicates a higher chance of surviving; a lower class (where \"first\" class is better than \"third\") indicates a higher chance of survinging. \n",
    "* *Sex* and *Embarked* do not appear in the correlation list, because they are not numeric values. We can one-hot encode this column and re-examine later."
   ]
  },
  {
   "cell_type": "code",
   "execution_count": 36,
   "metadata": {
    "ExecuteTime": {
     "end_time": "2018-11-09T00:16:23.094178Z",
     "start_time": "2018-11-09T00:16:21.619001Z"
    }
   },
   "outputs": [
    {
     "data": {
      "image/png": "[encoded data removed]",
      "text/plain": [
       "<Figure size 864x576 with 25 Axes>"
      ]
     },
     "metadata": {
      "needs_background": "light"
     },
     "output_type": "display_data"
    }
   ],
   "source": [
    "from pandas.plotting import scatter_matrix\n",
    "\n",
    "# Top four correlated inputs with survived\n",
    "attributes = [\"Survived\", \"Fare\", \"Pclass\", \"Parch\", \"Age\"]\n",
    "scatter_matrix(data[attributes], figsize=(12, 8));"
   ]
  },
  {
   "cell_type": "markdown",
   "metadata": {},
   "source": [
    "## Evaluate categorical features with respect to Survived"
   ]
  },
  {
   "cell_type": "code",
   "execution_count": 37,
   "metadata": {
    "ExecuteTime": {
     "end_time": "2018-11-09T00:16:23.602602Z",
     "start_time": "2018-11-09T00:16:23.137106Z"
    }
   },
   "outputs": [
    {
     "data": {
      "image/png": "[encoded data removed]",
      "text/plain": [
       "<Figure size 1080x288 with 3 Axes>"
      ]
     },
     "metadata": {
      "needs_background": "light"
     },
     "output_type": "display_data"
    }
   ],
   "source": [
    "cat_vars = ['Sex', 'Pclass', 'Embarked']\n",
    "plt.figure(figsize=(15,4))\n",
    "for idx, cat in enumerate(cat_vars):\n",
    "    plt.subplot(1, 3, idx+1)\n",
    "    sns.countplot(data[cat], hue=data['Survived'])"
   ]
  },
  {
   "cell_type": "markdown",
   "metadata": {},
   "source": [
    "# Build processing pipelines\n",
    "In this part of the homework the focus is on constructing the pipeline. Since the data has both numerical and categorical features, it is required to create two pipelines (one for each category of data) because they require different transformations. After finishing that, the two pipelines should be unified to produce one full pipeline that performs transformation on all the dataset"
   ]
  },
  {
   "cell_type": "code",
   "execution_count": 38,
   "metadata": {
    "ExecuteTime": {
     "end_time": "2018-11-09T00:16:28.833450Z",
     "start_time": "2018-11-09T00:16:28.826296Z"
    }
   },
   "outputs": [],
   "source": [
    "from sklearn.pipeline import Pipeline, FeatureUnion\n",
    "from sklearn.compose import ColumnTransformer\n",
    "\n",
    "# Identify the numeric features we wish to consider. \n",
    "num_attribs = [\n",
    "    'Age', \n",
    "    'Parch', \n",
    "    'SibSp',\n",
    "    'Fare'\n",
    "]\n",
    "# Create a pipeline for the numeric features.\n",
    "# Use StandardScaler() to standardize the data\n",
    "# Missing values will be imputed using the feature median.\n",
    "#==================================================#\n",
    "#               Your code starts here              #\n",
    "#==================================================#\n",
    "num_pipeline = Pipeline([('impute', SimpleImputer(strategy='median')),('std_scaler', StandardScaler())])\n",
    "#==================================================#\n",
    "#               Your code ends here                #\n",
    "#               Please don't add code below here   #\n",
    "#==================================================#\n",
    "\n",
    "\n",
    "# Identify the categorical features we wish to consider.\n",
    "cat_attribs = [\n",
    "    \"Embarked\", \n",
    "    \"Sex\",\n",
    "    \"Pclass\"\n",
    "]\n",
    "# Identiy the range of expected values for the categorical features.\n",
    "cat_values = [\n",
    "    ['S','C','Q'],     # Embarked\n",
    "    ['female','male'], # Sex\n",
    "    [1,2,3] # Pclass\n",
    "]\n",
    "# Create a pipelne for the categorical features.\n",
    "# Entries with missing values or values that don't exist in the range\n",
    "# defined above will be one hot encoded as zeroes.\n",
    "cat_pipeline = Pipeline([\n",
    "        ('imputer', SimpleImputer(strategy='most_frequent')),\n",
    "        ('ohe', OneHotEncoder(sparse=False, handle_unknown=\"ignore\"))\n",
    "    ])\n",
    "\n",
    "# Complete the code for the entire data pipeline \n",
    "# with numerical feature, categorical feature\n",
    "#  Drop all remaining features\n",
    "#==================================================#\n",
    "#               Your code starts here              #\n",
    "#==================================================#  \n",
    "\n",
    "full_pipeline = ColumnTransformer(transformers=[\n",
    "        (\"num_pipeline\", num_pipeline, num_attribs),\n",
    "        (\"cat_pipeline\",cat_pipeline,cat_attribs)],\n",
    "        remainder='drop',n_jobs=-1)\n",
    "\n",
    "#==================================================#\n",
    "#               Your code ends here                #\n",
    "#               Please don't add code below here   #\n",
    "#==================================================#\n",
    "\n"
   ]
  },
  {
   "cell_type": "markdown",
   "metadata": {},
   "source": [
    "# Feature Engineering\n",
    "When conducting an end to end Machine Learning project, after exploring and preprocessing the data it is essential to think of feature engineering. It consists of creating new feature(s) based on the features that already exist in the dataset that can be useful for training the model."
   ]
  },
  {
   "cell_type": "markdown",
   "metadata": {},
   "source": [
    "## Develop a new feature based on the title from each passengers name"
   ]
  },
  {
   "cell_type": "markdown",
   "metadata": {},
   "source": [
    "### Evaluate the distribution of titles"
   ]
  },
  {
   "cell_type": "code",
   "execution_count": 39,
   "metadata": {
    "ExecuteTime": {
     "end_time": "2018-11-09T00:16:44.678632Z",
     "start_time": "2018-11-09T00:16:44.455797Z"
    }
   },
   "outputs": [
    {
     "data": {
      "image/png": "[encoded data removed]",
      "text/plain": [
       "<Figure size 432x288 with 1 Axes>"
      ]
     },
     "metadata": {
      "needs_background": "light"
     },
     "output_type": "display_data"
    }
   ],
   "source": [
    "data['Title'] = data['Name'].apply(lambda x: re.search(' ([A-Z][a-z]+)\\.', x).group(1))\n",
    "sns.countplot(x='Title', data=data)\n",
    "plt.title('Distribution of Titles Amongst Passengers')\n",
    "plt.xticks(rotation=90);"
   ]
  },
  {
   "cell_type": "markdown",
   "metadata": {},
   "source": [
    "### Consolidate special and miscellaneous titles\n",
    "Most titles fall into one of four categories (Mr, Mrs., Miss, Master).  All other titles can be combined with one of these groups (i.e., they are French varients) or grouped as \"other\". "
   ]
  },
  {
   "cell_type": "code",
   "execution_count": 40,
   "metadata": {
    "ExecuteTime": {
     "end_time": "2018-11-09T00:16:59.610825Z",
     "start_time": "2018-11-09T00:16:59.410019Z"
    }
   },
   "outputs": [
    {
     "data": {
      "text/plain": [
       "Mr        517\n",
       "Miss      185\n",
       "Mrs       126\n",
       "Master     40\n",
       "Other      23\n",
       "Name: Title, dtype: int64"
      ]
     },
     "execution_count": 40,
     "metadata": {},
     "output_type": "execute_result"
    },
    {
     "data": {
      "image/png": "[encoded data removed]",
      "text/plain": [
       "<Figure size 432x288 with 1 Axes>"
      ]
     },
     "metadata": {
      "needs_background": "light"
     },
     "output_type": "display_data"
    }
   ],
   "source": [
    "data['Title'] = data['Title'].replace({'Mlle':'Miss', 'Mme':'Mrs', 'Ms':'Miss'})\n",
    "data['Title'] = data['Title'].replace(['Don', 'Dona', 'Rev', 'Dr','Major', 'Lady', 'Sir', \n",
    "                                       'Col', 'Capt', 'Countess', 'Jonkheer'],'Other')\n",
    "sns.countplot(x='Title', data=data);\n",
    "plt.title('Distribution of Titles After Consolidation')\n",
    "data['Title'].value_counts()"
   ]
  },
  {
   "cell_type": "markdown",
   "metadata": {},
   "source": [
    "## Create a transformer to perfom this new feature transformation in a pipeline"
   ]
  },
  {
   "cell_type": "code",
   "execution_count": 41,
   "metadata": {
    "ExecuteTime": {
     "end_time": "2018-11-09T00:17:07.917449Z",
     "start_time": "2018-11-09T00:17:07.910630Z"
    }
   },
   "outputs": [],
   "source": [
    "class TitleAdder(BaseEstimator, TransformerMixin):\n",
    "    def __init__(self, features=None): # no *args or **kargs\n",
    "        self.features = features\n",
    "    def fit(self, X, y=None):\n",
    "        return self  # nothing else to do\n",
    "    def transform(self, X):\n",
    "        df = pd.DataFrame(X, columns=self.features)\n",
    "        df['Title'] = df['Name'].apply(lambda x: re.search(' ([A-Z][a-z]+)\\.', x).group(1))\n",
    "        # Apply the necessary transformations to obtain the 5 title categories\n",
    "        # (Mr, Mrs, Miss, Master, Other) like it was done in section 5.1.2\n",
    "        #==================================================#\n",
    "        #               Your code starts here              #\n",
    "        #==================================================#\n",
    "        df['Title'] = df['Title'].replace({'Mlle':'Miss', 'Mme':'Mrs', 'Ms':'Miss'})\n",
    "        df['Title'] = df['Title'].replace(['Don', 'Dona', 'Rev', 'Dr','Major', 'Lady', 'Sir','Col', 'Capt', 'Countess', 'Jonkheer'],'Other')     \n",
    "        #==================================================#\n",
    "        #               Your code ends here                #\n",
    "        #               Please don't add code below here   #\n",
    "        #==================================================#\n",
    "        df.drop('Name', axis=1, inplace=True)\n",
    "        return np.array(df.values)"
   ]
  },
  {
   "cell_type": "markdown",
   "metadata": {},
   "source": [
    "# Modeling\n",
    "Now that we have explored the data, cleaned it, preprocessed it and added a new feature to it, we can start the modeling part of the project by applying Machine Learning algorithms. In this section, you will have a baseline logistic regression model and grid searches on different models. In the end, you will find out which parameters are the best for each algorithm and you will be able to compare the performance of the models with the baseline model.\n",
    "## Baseline Logistic Regression"
   ]
  },
  {
   "cell_type": "code",
   "execution_count": 42,
   "metadata": {
    "ExecuteTime": {
     "end_time": "2018-11-09T00:17:09.641330Z",
     "start_time": "2018-11-09T00:17:09.635485Z"
    }
   },
   "outputs": [],
   "source": [
    "# use full pipeline above to build full pipeline with predictor\n",
    "np.random.seed(42)\n",
    "full_pipeline_with_predictor = Pipeline([\n",
    "        (\"preparation\", full_pipeline),\n",
    "        (\"linear\", LogisticRegression(random_state=42))\n",
    "    ])\n",
    "\n",
    "# split data into train, test and validation set with random seed set to 42 for correct results\n",
    "x_train, x_test, y_train, y_test = train_test_split(x, y, test_size=0.15, shuffle=True,random_state=42)\n",
    "x_train, x_valid, y_train, y_valid = train_test_split(x_train, y_train, test_size=0.3, shuffle=True,random_state=42)"
   ]
  },
  {
   "cell_type": "code",
   "execution_count": 43,
   "metadata": {
    "ExecuteTime": {
     "end_time": "2018-11-09T00:17:12.319694Z",
     "start_time": "2018-11-09T00:17:11.987069Z"
    }
   },
   "outputs": [],
   "source": [
    "start = time()\n",
    "full_pipeline_with_predictor.fit(x_train, y_train)\n",
    "train_time = np.round(time() - start, 4)\n",
    "np.random.seed(42)\n",
    "logit_score_train = full_pipeline_with_predictor.score(x_train, y_train)\n",
    "\n",
    "# Set up to calculate cross validation scores on validation data set\n",
    "# Use ShuffleSplit() with 30 splits, 30% test_size \n",
    "# and a random seed of 0\n",
    "#==================================================#\n",
    "#               Your code starts here              #\n",
    "#==================================================#\n",
    "cv30Splits = ShuffleSplit(n_splits=30 , test_size=0.3,random_state=0)\n",
    "logit_scores_valid = cross_val_score(full_pipeline_with_predictor,x_valid,y_valid,cv = cv30Splits)\n",
    "#==================================================#\n",
    "#               Your code ends here                #\n",
    "#               Please don't add code below here   #\n",
    "#==================================================#\n",
    "\n",
    "# cross fold validation validation accuracy with 30 splits\n",
    "logit_score_valid = logit_scores_valid.mean()\n",
    "\n",
    "# Time and score test predictions\n",
    "start = time()\n",
    "logit_score_test  = full_pipeline_with_predictor.score(x_test, y_test)\n",
    "test_time = np.round(time() - start, 4)"
   ]
  },
  {
   "cell_type": "code",
   "execution_count": 44,
   "metadata": {
    "ExecuteTime": {
     "end_time": "2018-11-09T00:17:17.543434Z",
     "start_time": "2018-11-09T00:17:17.529983Z"
    }
   },
   "outputs": [
    {
     "data": {
      "text/html": [
       "<div>\n",
       "<style scoped>\n",
       "    .dataframe tbody tr th:only-of-type {\n",
       "        vertical-align: middle;\n",
       "    }\n",
       "\n",
       "    .dataframe tbody tr th {\n",
       "        vertical-align: top;\n",
       "    }\n",
       "\n",
       "    .dataframe thead th {\n",
       "        text-align: right;\n",
       "    }\n",
       "</style>\n",
       "<table border=\"1\" class=\"dataframe\">\n",
       "  <thead>\n",
       "    <tr style=\"text-align: right;\">\n",
       "      <th></th>\n",
       "      <th>ExpID</th>\n",
       "      <th>Train accuracy</th>\n",
       "      <th>Cross fold validation Accuracy</th>\n",
       "      <th>Test Accuracy</th>\n",
       "      <th>p-value</th>\n",
       "      <th>Train Time(s)</th>\n",
       "      <th>Test Time(s)</th>\n",
       "      <th>Experiment description</th>\n",
       "    </tr>\n",
       "  </thead>\n",
       "  <tbody>\n",
       "    <tr>\n",
       "      <th>0</th>\n",
       "      <td>Baseline</td>\n",
       "      <td>80.0</td>\n",
       "      <td>81.1</td>\n",
       "      <td>81.3</td>\n",
       "      <td>---</td>\n",
       "      <td>0.044</td>\n",
       "      <td>0.0114</td>\n",
       "      <td>Untuned LogisticRegression</td>\n",
       "    </tr>\n",
       "  </tbody>\n",
       "</table>\n",
       "</div>"
      ],
      "text/plain": [
       "      ExpID  Train accuracy  Cross fold validation Accuracy  Test Accuracy  \\\n",
       "0  Baseline            80.0                            81.1           81.3   \n",
       "\n",
       "  p-value  Train Time(s)  Test Time(s)      Experiment description  \n",
       "0     ---          0.044        0.0114  Untuned LogisticRegression  "
      ]
     },
     "execution_count": 44,
     "metadata": {},
     "output_type": "execute_result"
    }
   ],
   "source": [
    "results.loc[0] = [\"Baseline\", pct(logit_score_train), np.round(pct(logit_score_valid),3) ,np.round(pct(logit_score_test),3), \n",
    "                  \"---\", train_time, test_time, \"Untuned LogisticRegression\"]\n",
    "results"
   ]
  },
  {
   "cell_type": "markdown",
   "metadata": {},
   "source": [
    "## Decision Trees"
   ]
  },
  {
   "cell_type": "markdown",
   "metadata": {},
   "source": [
    "Decision Tree is one of the popular and most widely used Machine Learning Algorithms because of its robustness to noise, tolerance against missing information, handling of irrelevant, redundant predictive attribute values, low computational cost, interpretability, fast run time and robust predictors. \n",
    "\n",
    "#### Cost functions used for classification and regression.\n",
    "In both cases the cost functions try to find most homogeneous branches, or branches having groups with similar responses. \n",
    "\n",
    "Regression : sum(y — prediction)²\n",
    "\n",
    "Classification : G = sum(pk * (1 — pk))\n",
    "\n",
    "A Gini score gives an idea of how good a split is by how mixed the response classes are in the groups created by the split. Here, pk is proportion of same class inputs present in a particular group.\n",
    "\n",
    "#### DecisionTreeClassifier\n",
    "\n",
    "The function to measure the quality of a split. Supported criteria are “gini” for the Gini impurity and “entropy” for the information gain.\n",
    "Information gain uses the entropy measure as the impurity measure and splits a node such that it gives the most amount of information gain. Whereas Gini Impurity measures the divergences between the probability distributions of the target attribute’s values and splits a node such that it gives the least amount of impurity.\n",
    "\n",
    "**Gini** :  $\\Large 1 - \\sum^m_{i=1}(P_j^2)$\n",
    "\n",
    "**Entropy** : $\\Large \\sum^m_{i=1}\\left(P_j\\cdot\\:\\log\\:\\left(P_j\\right)\\:)\\right)$\n",
    "\n",
    "#### DecisionTreeRegressor\n",
    "\n",
    "The decision of making strategic splits heavily affects a tree’s accuracy. The decision criteria is different for classification and regression trees.Decision trees regression normally use mean squared error (MSE) to decide to split a node in two or more sub-nodes. \n",
    "\n",
    "Suppose we are doing a binary tree the algorithm first will pick a value, and split the data into two subset. For each subset, it will calculate the MSE separately. The tree chooses the value with results in smallest MSE value.\n",
    "\n",
    "${MSE}=\\frac{1}{m} \\sum_{i=1}^m  (x_{i}-y_{i})^2 $\n",
    "\n",
    "#### Feature importance formula\n",
    "To calculate the importance of each feature, we will mention the decision point itself and its child nodes as well. The following formula covers the calculation of feature importance. \n",
    "\n",
    "For each decision tree, Scikit-learn calculates a nodes importance using Gini Importance, assuming only two child nodes (binary tree):\n",
    "\n",
    "$\\Large ni_j = w_jC_j - w_{left(j)}C_{left(j)} - w_{right(j)}C_{right(j)}$  \n",
    "\n",
    "**Where**\n",
    "\n",
    "ni_j= the importance of node j\n",
    "\n",
    "w_j = weighted number of samples reaching node j\n",
    "\n",
    "C_j= the impurity value of node j\n",
    "\n",
    "left(j) = child node from left split on node j\n",
    "\n",
    "right(j) = child node from right split on node j\n",
    "\n",
    "The importance for each feature on a decision tree is then calculated as:\n",
    "\n",
    "$\\Large fi_i = \\frac{\\sum_{j:node \\hspace{0.1cm} j \\hspace{0.1cm} splits \\hspace{0.1cm} on \\hspace{0.1cm} feature \\hspace{0.1cm} i}ni_j}{\\sum_{k \\hspace{0.1cm} \\epsilon \\hspace{0.1cm} all \\hspace{0.1cm} nodes }ni_k}$\n",
    "\n",
    "These can then be normalized to a value between 0 and 1 by dividing by the sum of all feature importance values:\n",
    "\n",
    "$\\Large normfi_i = \\frac{fi_i}{\\sum_{j \\hspace{0.1cm}  \\epsilon \\hspace{0.1cm} all \\hspace{0.1cm} features}fi_j}$\n",
    "\n",
    "#### Decision Trees Parameters for classification\n",
    "\n",
    "**criterion{“gini”, “entropy”}, default=”gini”** :The function to measure the quality of a split. Supported criteria are “gini” for the Gini impurity and “entropy” for the information gain.\n",
    "\n",
    "**max_depth, default=None** : The maximum depth of the tree. If None, then nodes are expanded until all leaves are pure or until all leaves contain less than min_samples_split samples.\n",
    "\n",
    "**min_samples_leaf int or float, default=1** : The minimum number of samples required to be at a leaf node. A split point at any depth will only be considered if it leaves at least min_samples_leaf training samples in each of the left and right branches. This may have the effect of smoothing the model, especially in regression.\n",
    "\n",
    "#### Decision Trees Parameters for Regression\n",
    "\n",
    "**criterion{“mse”, “friedman_mse”, “mae”, “poisson”}, default=”mse”** : The function to measure the quality of a split. \n",
    "\n",
    "**max_depth, default=None** : The maximum depth of the tree. If None, then nodes are expanded until all leaves are pure or until all leaves contain less than min_samples_split samples.\n",
    "\n",
    "**min_samples_leaf int or float, default=1** : The minimum number of samples required to be at a leaf node. A split point at any depth will only be considered if it leaves at least min_samples_leaf training samples in each of the left and right branches. This may have the effect of smoothing the model, especially in regression.\n",
    "\n",
    "#### Random Forest Parameters\n",
    "\n",
    "A random forest is a meta estimator that fits a number of decision tree classifiers on various sub-samples of the dataset and uses averaging to improve the predictive accuracy and control over-fitting. \n",
    "\n",
    "**n_estimatorsint, default=100** : The number of trees in the forest.\n",
    "\n",
    "**max_depthint, default=None** : The maximum depth of the tree. If None, then nodes are expanded until all leaves are pure or until all leaves contain less than min_samples_split samples.\n",
    "\n",
    "**max_features** : The number of features to consider when looking for the best split.\n",
    "\n",
    "**min_impurity_decreasefloat, default=0.0** : Threshold for early stopping in tree growth. A node will be split if this split induces a decrease of the impurity greater than or equal to this value.\n",
    "\n",
    "**bootstrapbool, default=True** : Whether bootstrap samples are used when building trees. If False, the whole dataset is used to build each tree."
   ]
  },
  {
   "cell_type": "markdown",
   "metadata": {},
   "source": [
    "### Regression Code"
   ]
  },
  {
   "cell_type": "markdown",
   "metadata": {},
   "source": [
    "#### Decision Tree"
   ]
  },
  {
   "cell_type": "code",
   "execution_count": 45,
   "metadata": {},
   "outputs": [],
   "source": [
    "from sklearn.datasets import load_boston\n",
    "from sklearn.metrics import mean_squared_error\n",
    "from sklearn.tree import DecisionTreeRegressor\n",
    "from sklearn.ensemble import RandomForestRegressor\n",
    "\n",
    "import pandas as pd\n",
    "import matplotlib.pyplot as plt\n",
    "import numpy as np\n",
    "\n",
    "boston = load_boston()\n",
    "data=pd.DataFrame(boston.data)\n",
    "data.columns = boston.feature_names\n",
    "data['PRICE']=boston.target\n",
    "X_boston,y_boston = data.iloc[:,:-1],data.iloc[:,-1]"
   ]
  },
  {
   "cell_type": "code",
   "execution_count": 46,
   "metadata": {},
   "outputs": [
    {
     "name": "stdout",
     "output_type": "stream",
     "text": [
      "RMSE=3.834096\n"
     ]
    }
   ],
   "source": [
    "from sklearn.model_selection import train_test_split\n",
    "\n",
    "X_train_boston, X_test_boston, y_train_boston, y_test_boston = train_test_split(X_boston, y_boston, test_size=0.15, shuffle=True,random_state=42)\n",
    "X_train_boston, X_valid_boston, y_train_boston, y_valid_boston = train_test_split(X_train_boston, y_train_boston, test_size=0.3, shuffle=True,random_state=42)\n",
    "\n",
    "# Initialize and fit regressor\n",
    "\n",
    "tree = DecisionTreeRegressor(criterion='mse',max_depth=4,random_state = 42)\n",
    "tree.fit(X_train_boston, y_train_boston)\n",
    "\n",
    "y_preds_boston = tree.predict(X_test_boston)\n",
    "\n",
    "rmse = np.sqrt(mean_squared_error(y_test_boston,y_preds_boston))\n",
    "print ('RMSE=%f'% (rmse))"
   ]
  },
  {
   "cell_type": "code",
   "execution_count": 47,
   "metadata": {},
   "outputs": [
    {
     "data": {
      "image/png": "[encoded data removed]",
      "text/plain": [
       "<Figure size 432x288 with 1 Axes>"
      ]
     },
     "metadata": {
      "needs_background": "light"
     },
     "output_type": "display_data"
    }
   ],
   "source": [
    "features = X_train_boston.columns\n",
    "importances = tree.feature_importances_\n",
    "indices = np.argsort(importances)\n",
    "\n",
    "plt.title('Feature Importances')\n",
    "plt.barh(range(len(indices)), importances[indices], color='b', align='center')\n",
    "plt.yticks(range(len(indices)), [features[i] for i in indices])\n",
    "plt.xlabel('Relative Importance')\n",
    "plt.grid()\n",
    "plt.show();"
   ]
  },
  {
   "cell_type": "markdown",
   "metadata": {},
   "source": [
    "#### Random forest"
   ]
  },
  {
   "cell_type": "code",
   "execution_count": 48,
   "metadata": {},
   "outputs": [
    {
     "name": "stdout",
     "output_type": "stream",
     "text": [
      "RMSE=2.493191\n"
     ]
    }
   ],
   "source": [
    "RF = RandomForestRegressor(random_state = 42,n_estimators=100,criterion='mse',max_depth=6)\n",
    "\n",
    "RF.fit(X_train_boston, y_train_boston)\n",
    "\n",
    "y_preds_boston = RF.predict(X_test_boston)\n",
    "\n",
    "rmse = np.sqrt(mean_squared_error(y_test_boston,y_preds_boston))\n",
    "print ('RMSE=%f'% (rmse))"
   ]
  },
  {
   "cell_type": "code",
   "execution_count": 49,
   "metadata": {},
   "outputs": [
    {
     "data": {
      "image/png": "[encoded data removed]",
      "text/plain": [
       "<Figure size 432x288 with 1 Axes>"
      ]
     },
     "metadata": {
      "needs_background": "light"
     },
     "output_type": "display_data"
    }
   ],
   "source": [
    "features = X_train_boston.columns\n",
    "importances = RF.feature_importances_\n",
    "indices = np.argsort(importances)\n",
    "\n",
    "plt.title('Feature Importances')\n",
    "plt.barh(range(len(indices)), importances[indices], color='b', align='center')\n",
    "plt.yticks(range(len(indices)), [features[i] for i in indices])\n",
    "plt.xlabel('Relative Importance')\n",
    "plt.grid()\n",
    "\n",
    "plt.show();"
   ]
  },
  {
   "cell_type": "markdown",
   "metadata": {},
   "source": [
    "### Classification Code"
   ]
  },
  {
   "cell_type": "code",
   "execution_count": 50,
   "metadata": {},
   "outputs": [],
   "source": [
    "from sklearn.tree import DecisionTreeClassifier\n",
    "from sklearn.ensemble import RandomForestClassifier\n",
    "# A Function to execute the grid search and record the results.\n",
    "def ConductGridSearch(X_train, y_train, x_valid, y_valid ,X_test, y_test, i=0, prefix='', n_jobs=-1,verbose=1):\n",
    "    # Create a list of classifiers for our grid search experiment\n",
    "    classifiers = [\n",
    "        ('DecisionTrees', DecisionTreeClassifier(random_state=42)),\n",
    "        ('RandomForest', RandomForestClassifier(random_state=42))\n",
    "        \n",
    "    ]\n",
    "\n",
    "    # Arrange grid search parameters for each classifier\n",
    "    params_grid = {\n",
    "        'DecisionTrees' : {\n",
    "            'criterion':['gini','entropy'],\n",
    "            'max_depth':range(1,10),\n",
    "            \n",
    "            'min_samples_leaf':range(1,5)\n",
    "        },\n",
    "        \n",
    "       'RandomForest':  {\n",
    "            'max_depth': [9, 15, 22,],\n",
    "            'max_features': [1, 3, 5],\n",
    "            'min_samples_leaf': [3, 5, 10],\n",
    "            'min_impurity_decrease':[0,1e-3,1e-4,1e-6],\n",
    "            'bootstrap': [True],\n",
    "            'n_estimators':[ 100, 150, 200]}\n",
    "    }\n",
    "    \n",
    "    for (name, classifier) in classifiers:\n",
    "        i += 1\n",
    "        # Print classifier and parameters\n",
    "        print('****** START',prefix, name,'*****')\n",
    "        parameters = params_grid[name]\n",
    "        print(\"Parameters:\")\n",
    "        for p in sorted(parameters.keys()):\n",
    "            print(\"\\t\"+str(p)+\": \"+ str(parameters[p]))\n",
    "        \n",
    "        # generate the pipeline\n",
    "        full_pipeline_with_predictor = Pipeline([\n",
    "        (\"preparation\", full_pipeline),\n",
    "        (\"predictor\", classifier)\n",
    "        ])\n",
    "        \n",
    "        # Execute the grid search\n",
    "        params = {}\n",
    "        for p in parameters.keys():\n",
    "            pipe_key = 'predictor__'+str(p)\n",
    "            params[pipe_key] = parameters[p] \n",
    "        grid_search = GridSearchCV(full_pipeline_with_predictor, params, scoring='accuracy', cv=5, \n",
    "                                   n_jobs=n_jobs, verbose=verbose)\n",
    "        grid_search.fit(X_train, y_train)\n",
    "                \n",
    "        # Best estimator score\n",
    "        best_train = pct(grid_search.best_score_)\n",
    "\n",
    "        # Best estimator fitting time\n",
    "        start = time()\n",
    "        grid_search.best_estimator_.fit(X_train, y_train)\n",
    "        best_train_accuracy = pct(grid_search.best_estimator_.score(X_train, y_train))\n",
    "        train_time = round(time() - start, 4)\n",
    "        \n",
    "#         plt.barh(['Age', 'Parch', 'SibSp','Fare','x0_C' ,'x0_Q' ,'x0_S' ,'x1_female', 'x1_male' ,'x2_1' ,'x2_2', 'x2_3'], grid_search.best_estimator_.named_steps[\"predictor\"].feature_importances_)\n",
    "#         plt.show()\n",
    "        features = ['Age', 'Parch', 'SibSp','Fare','x0_C' ,'x0_Q' ,'x0_S' ,'x1_female', 'x1_male' ,'x2_1' ,'x2_2', 'x2_3']\n",
    "        importances = grid_search.best_estimator_.named_steps[\"predictor\"].feature_importances_\n",
    "        indices = np.argsort(importances)\n",
    "\n",
    "        plt.title('Feature Importances')\n",
    "        plt.barh(range(len(indices)), importances[indices], color='b', align='center')\n",
    "        plt.yticks(range(len(indices)), [features[i] for i in indices])\n",
    "        plt.xlabel('Relative Importance')\n",
    "        plt.grid()\n",
    "        plt.show();\n",
    "        \n",
    "        # Best estimator prediction time\n",
    "        start = time()\n",
    "        best_test_accuracy = pct(grid_search.best_estimator_.score(X_test, y_test))\n",
    "        test_time = round(time() - start, 4)\n",
    "\n",
    "        # Generate 30 validation accuracy scores with the best estimator and 30-split CV\n",
    "        # Use ShuffleSplit() with 30 splits, 30% test_size and a random seed of 0\n",
    "        # To calculate the best_validation_accuracy \n",
    "        # use the pct() and mean() methods\n",
    "        #==================================================#\n",
    "        #               Your code starts here              #\n",
    "        #==================================================#\n",
    "        cv30Splits = ShuffleSplit(n_splits=30 , test_size=0.3,random_state=0)\n",
    "        best_validation_scores = cross_val_score(grid_search.best_estimator_, x_valid,y_valid, cv = cv30Splits)\n",
    "        best_validation_accuracy = pct(best_validation_scores.mean())\n",
    "        \n",
    "        #==================================================#\n",
    "        #               Your code ends here                #\n",
    "        #               Please don't add code below here   #\n",
    "        #==================================================#    \n",
    "       \n",
    "        \n",
    "        \n",
    "        # Conduct t-test with baseline logit (control) and best estimator (experiment)\n",
    "        (t_stat, p_value) = stats.ttest_rel(logit_scores_valid, best_validation_scores)\n",
    "        \n",
    "        # Collect the best parameters found by the grid search\n",
    "        print(\"Best Parameters:\")\n",
    "        best_parameters = grid_search.best_estimator_.get_params()\n",
    "        param_dump = []\n",
    "        for param_name in sorted(params.keys()):\n",
    "            param_dump.append((param_name, best_parameters[param_name]))\n",
    "            print(\"\\t\"+str(param_name)+\": \" + str(best_parameters[param_name]))\n",
    "        print(\"****** FINISH\",prefix,name,\" *****\")\n",
    "        print(\"\")\n",
    "        \n",
    "        # Record the results\n",
    "        results.loc[i] = [prefix+name, best_train_accuracy, best_validation_accuracy ,best_test_accuracy, round(p_value,5), train_time, test_time, json.dumps(param_dump)]\n",
    "        \n",
    "        "
   ]
  },
  {
   "cell_type": "code",
   "execution_count": 51,
   "metadata": {},
   "outputs": [
    {
     "name": "stdout",
     "output_type": "stream",
     "text": [
      "****** START Best Model: DecisionTrees *****\n",
      "Parameters:\n",
      "\tcriterion: ['gini', 'entropy']\n",
      "\tmax_depth: range(1, 10)\n",
      "\tmin_samples_leaf: range(1, 5)\n",
      "Fitting 5 folds for each of 72 candidates, totalling 360 fits\n"
     ]
    },
    {
     "data": {
      "image/png": "[encoded data removed]",
      "text/plain": [
       "<Figure size 432x288 with 1 Axes>"
      ]
     },
     "metadata": {
      "needs_background": "light"
     },
     "output_type": "display_data"
    },
    {
     "name": "stdout",
     "output_type": "stream",
     "text": [
      "Best Parameters:\n",
      "\tpredictor__criterion: entropy\n",
      "\tpredictor__max_depth: 4\n",
      "\tpredictor__min_samples_leaf: 1\n",
      "****** FINISH Best Model: DecisionTrees  *****\n",
      "\n",
      "****** START Best Model: RandomForest *****\n",
      "Parameters:\n",
      "\tbootstrap: [True]\n",
      "\tmax_depth: [9, 15, 22]\n",
      "\tmax_features: [1, 3, 5]\n",
      "\tmin_impurity_decrease: [0, 0.001, 0.0001, 1e-06]\n",
      "\tmin_samples_leaf: [3, 5, 10]\n",
      "\tn_estimators: [100, 150, 200]\n",
      "Fitting 5 folds for each of 324 candidates, totalling 1620 fits\n"
     ]
    },
    {
     "data": {
      "image/png": "[encoded data removed]",
      "text/plain": [
       "<Figure size 432x288 with 1 Axes>"
      ]
     },
     "metadata": {
      "needs_background": "light"
     },
     "output_type": "display_data"
    },
    {
     "name": "stdout",
     "output_type": "stream",
     "text": [
      "Best Parameters:\n",
      "\tpredictor__bootstrap: True\n",
      "\tpredictor__max_depth: 9\n",
      "\tpredictor__max_features: 1\n",
      "\tpredictor__min_impurity_decrease: 0\n",
      "\tpredictor__min_samples_leaf: 5\n",
      "\tpredictor__n_estimators: 150\n",
      "****** FINISH Best Model: RandomForest  *****\n",
      "\n"
     ]
    }
   ],
   "source": [
    "ConductGridSearch(x_train, y_train, x_valid, y_valid, x_test, y_test, 0, \"Best Model:\",  n_jobs=-1,verbose=1)"
   ]
  },
  {
   "cell_type": "code",
   "execution_count": 52,
   "metadata": {
    "scrolled": true
   },
   "outputs": [
    {
     "data": {
      "text/html": [
       "<div>\n",
       "<style scoped>\n",
       "    .dataframe tbody tr th:only-of-type {\n",
       "        vertical-align: middle;\n",
       "    }\n",
       "\n",
       "    .dataframe tbody tr th {\n",
       "        vertical-align: top;\n",
       "    }\n",
       "\n",
       "    .dataframe thead th {\n",
       "        text-align: right;\n",
       "    }\n",
       "</style>\n",
       "<table border=\"1\" class=\"dataframe\">\n",
       "  <thead>\n",
       "    <tr style=\"text-align: right;\">\n",
       "      <th></th>\n",
       "      <th>ExpID</th>\n",
       "      <th>Train accuracy</th>\n",
       "      <th>Cross fold validation Accuracy</th>\n",
       "      <th>Test Accuracy</th>\n",
       "      <th>p-value</th>\n",
       "      <th>Train Time(s)</th>\n",
       "      <th>Test Time(s)</th>\n",
       "      <th>Experiment description</th>\n",
       "    </tr>\n",
       "  </thead>\n",
       "  <tbody>\n",
       "    <tr>\n",
       "      <th>0</th>\n",
       "      <td>Baseline</td>\n",
       "      <td>80.0</td>\n",
       "      <td>81.1</td>\n",
       "      <td>81.3</td>\n",
       "      <td>---</td>\n",
       "      <td>0.0440</td>\n",
       "      <td>0.0114</td>\n",
       "      <td>Untuned LogisticRegression</td>\n",
       "    </tr>\n",
       "    <tr>\n",
       "      <th>1</th>\n",
       "      <td>Best Model:DecisionTrees</td>\n",
       "      <td>83.6</td>\n",
       "      <td>80.9</td>\n",
       "      <td>82.1</td>\n",
       "      <td>0.77265</td>\n",
       "      <td>0.0252</td>\n",
       "      <td>0.0106</td>\n",
       "      <td>[[\"predictor__criterion\", \"entropy\"], [\"predic...</td>\n",
       "    </tr>\n",
       "    <tr>\n",
       "      <th>2</th>\n",
       "      <td>Best Model:RandomForest</td>\n",
       "      <td>82.8</td>\n",
       "      <td>81.6</td>\n",
       "      <td>82.1</td>\n",
       "      <td>0.48213</td>\n",
       "      <td>0.2721</td>\n",
       "      <td>0.0390</td>\n",
       "      <td>[[\"predictor__bootstrap\", true], [\"predictor__...</td>\n",
       "    </tr>\n",
       "  </tbody>\n",
       "</table>\n",
       "</div>"
      ],
      "text/plain": [
       "                      ExpID  Train accuracy  Cross fold validation Accuracy  \\\n",
       "0                  Baseline            80.0                            81.1   \n",
       "1  Best Model:DecisionTrees            83.6                            80.9   \n",
       "2   Best Model:RandomForest            82.8                            81.6   \n",
       "\n",
       "   Test Accuracy  p-value  Train Time(s)  Test Time(s)  \\\n",
       "0           81.3      ---         0.0440        0.0114   \n",
       "1           82.1  0.77265         0.0252        0.0106   \n",
       "2           82.1  0.48213         0.2721        0.0390   \n",
       "\n",
       "                              Experiment description  \n",
       "0                         Untuned LogisticRegression  \n",
       "1  [[\"predictor__criterion\", \"entropy\"], [\"predic...  \n",
       "2  [[\"predictor__bootstrap\", true], [\"predictor__...  "
      ]
     },
     "execution_count": 52,
     "metadata": {},
     "output_type": "execute_result"
    }
   ],
   "source": [
    "results"
   ]
  },
  {
   "cell_type": "markdown",
   "metadata": {},
   "source": [
    "## Conduct Grid Search using a variety of Classification Algorithms"
   ]
  },
  {
   "cell_type": "markdown",
   "metadata": {},
   "source": [
    "In this section, we're going to try to answer the following questions\n",
    "Note: These questions should be answered in Canvas once you have completed this section.\n",
    "### Best validation accuracy\n",
    "    Please submit the code snippet you added to calculate the best validation accuracy in the section below of the notebook\n",
    "### Best parameters for Logistic Regression \n",
    "    Based on the results obtained after conducting Grid Search in this section , choose the best parameters for Logistic Regression\n",
    "### Best parameters for k-nearest neighbors\n",
    "    Based on the results obtained after conducting Grid Search in this section, what is  the best parameter for n_neighbors for k-nearest neighbors?\n",
    "### SVM Test Accuracy\n",
    "Please enter the calculated value for test Accuracy of Support vector model in the section below of the notebook. \n",
    "(Report your number to 1 decimal point of precision. For example: 2.5)\n",
    "### Statistical significance\n",
    "    Which one of the models listed below is the most statistically significant based on the results of this section? \n",
    "    * Naive Bayes\n",
    "    * Stochastic GD\n",
    "    * RandomForest\n",
    "    * Logistic Regression\n",
    "### Choosing the best model\n",
    "    Given the results that you obtained for the different models in this section, based on what information would you choose the best model to deploy? \n",
    "    * Cross fold Train Accuracy\n",
    "    * Test Accuracy\n",
    "    * p-value\n",
    "    * Train Time\n",
    "    * Test Time\n",
    " \n",
    "    "
   ]
  },
  {
   "cell_type": "code",
   "execution_count": null,
   "metadata": {
    "ExecuteTime": {
     "end_time": "2018-11-09T00:26:48.823849Z",
     "start_time": "2018-11-09T00:26:48.804151Z"
    }
   },
   "outputs": [],
   "source": [
    "\n",
    "# A Function to execute the grid search and record the results.\n",
    "def ConductGridSearch(X_train, y_train, x_valid, y_valid, X_test, y_test, i=0, prefix='', n_jobs=-1,verbose=1):\n",
    "    # Create a list of classifiers for our grid search experiment\n",
    "    classifiers = [\n",
    "        ('Logistic Regression', LogisticRegression(random_state=42)),\n",
    "        ('K-Nearest Neighbors', KNeighborsClassifier()),\n",
    "        ('Naive Bayes', GaussianNB()),\n",
    "        ('Support Vector', SVC(random_state=42)),\n",
    "        ('Stochastic GD', SGDClassifier(random_state=42)),\n",
    "        ('RandomForest', RandomForestClassifier(random_state=42))\n",
    "    ]\n",
    "\n",
    "    # Arrange grid search parameters for each classifier\n",
    "    params_grid = {\n",
    "        'Logistic Regression': {\n",
    "            'penalty': ('l1', 'l2'),\n",
    "            'tol': (0.0001, 0.00001, 0.0000001), \n",
    "            'C': (10, 1, 0.1, 0.01),\n",
    "        },\n",
    "        'K-Nearest Neighbors': {\n",
    "            'n_neighbors': (3, 5, 7, 8, 11),\n",
    "            'p': (1,2),\n",
    "        },\n",
    "        'Naive Bayes': {},\n",
    "        'Support Vector' : {\n",
    "            'kernel': ('rbf', 'poly'),     \n",
    "            'degree': (1, 2, 3, 4, 5),\n",
    "            'C': (10, 1, 0.1, 0.01),\n",
    "        },\n",
    "        'Stochastic GD': {\n",
    "            'loss': ('hinge', 'perceptron', 'log'),\n",
    "            'penalty': ('l1', 'l2', 'elasticnet'),\n",
    "            'tol': (0.0001, 0.00001, 0.0000001), \n",
    "            'alpha': (0.1, 0.01, 0.001, 0.0001), \n",
    "        },\n",
    "        'RandomForest':  {\n",
    "            'max_depth': [9, 15, 22, 26, 30],\n",
    "            'max_features': [1, 3, 5],\n",
    "            'min_samples_split': [5, 10, 15],\n",
    "            'min_samples_leaf': [3, 5, 10],\n",
    "            'bootstrap': [False],\n",
    "            'n_estimators':[20, 80, 150, 200, 300]},\n",
    " \n",
    "    }\n",
    "    \n",
    "    for (name, classifier) in classifiers:\n",
    "        i += 1\n",
    "        # Print classifier and parameters\n",
    "        print('****** START',prefix, name,'*****')\n",
    "        parameters = params_grid[name]\n",
    "        print(\"Parameters:\")\n",
    "        for p in sorted(parameters.keys()):\n",
    "            print(\"\\t\"+str(p)+\": \"+ str(parameters[p]))\n",
    "        \n",
    "        # generate the pipeline\n",
    "        full_pipeline_with_predictor = Pipeline([\n",
    "        (\"preparation\", full_pipeline),\n",
    "        (\"predictor\", classifier)\n",
    "        ])\n",
    "        \n",
    "        # Execute the grid search\n",
    "        params = {}\n",
    "        for p in parameters.keys():\n",
    "            pipe_key = 'predictor__'+str(p)\n",
    "            params[pipe_key] = parameters[p] \n",
    "        grid_search = GridSearchCV(full_pipeline_with_predictor, params, scoring='accuracy', cv=5, \n",
    "                                   n_jobs=n_jobs, verbose=verbose)\n",
    "        grid_search.fit(X_train, y_train)\n",
    "                \n",
    "        # Best estimator score\n",
    "        best_train = pct(grid_search.best_score_)\n",
    "\n",
    "        # Best estimator fitting time\n",
    "        start = time()\n",
    "        grid_search.best_estimator_.fit(X_train, y_train)\n",
    "        best_train_accuracy = pct(grid_search.best_estimator_.score(X_train, y_train))\n",
    "        train_time = round(time() - start, 4)\n",
    "\n",
    "        # Best estimator prediction time\n",
    "        start = time()\n",
    "        best_test_accuracy = pct(grid_search.best_estimator_.score(X_test, y_test))\n",
    "        test_time = round(time() - start, 4)\n",
    "\n",
    "        # Generate 30 validation accuracy scores with the best estimator and 30-split CV\n",
    "        # Use ShuffleSplit() with 30 splits, 30% test_size and a random seed of 0\n",
    "        # To calculate the best_validation_accuracy, use the pct() and mean() methods\n",
    "        #==================================================#\n",
    "        #               Your code starts here              #\n",
    "        #==================================================#\n",
    "        cv30Splits = ShuffleSplit(n_splits=30 , test_size=0.3,random_state=0)        \n",
    "        best_validation_scores = cross_val_score(grid_search.best_estimator_, x_valid,y_valid, cv = cv30Splits)\n",
    "        best_validation_accuracy = pct()\n",
    "        #==================================================#\n",
    "        #               Your code ends here                #\n",
    "        #               Please don't add code below here   #\n",
    "        #==================================================#    \n",
    "       \n",
    "        # Conduct t-test with baseline logit (control) and best estimator (experiment)\n",
    "        (t_stat, p_value) = stats.ttest_rel(logit_scores_valid, best_validation_scores)\n",
    "        \n",
    "        # Collect the best parameters found by the grid search\n",
    "        print(\"Best Parameters:\")\n",
    "        best_parameters = grid_search.best_estimator_.get_params()\n",
    "        param_dump = []\n",
    "        for param_name in sorted(params.keys()):\n",
    "            param_dump.append((param_name, best_parameters[param_name]))\n",
    "            print(\"\\t\"+str(param_name)+\": \" + str(best_parameters[param_name]))\n",
    "        print(\"****** FINISH\",prefix,name,\" *****\")\n",
    "        print(\"\")\n",
    "        \n",
    "        # Record the results\n",
    "        results.loc[i] = [prefix+name, best_train_accuracy, best_validation_accuracy ,best_test_accuracy, round(p_value,5), train_time, test_time, json.dumps(param_dump)]"
   ]
  },
  {
   "cell_type": "code",
   "execution_count": null,
   "metadata": {
    "ExecuteTime": {
     "end_time": "2018-11-09T00:35:36.766006Z",
     "start_time": "2018-11-09T00:26:52.737779Z"
    },
    "code_folding": []
   },
   "outputs": [
    {
     "name": "stdout",
     "output_type": "stream",
     "text": [
      "****** START Best Model: Logistic Regression *****\n",
      "Parameters:\n",
      "\tC: (10, 1, 0.1, 0.01)\n",
      "\tpenalty: ('l1', 'l2')\n",
      "\ttol: (0.0001, 1e-05, 1e-07)\n",
      "Fitting 5 folds for each of 24 candidates, totalling 120 fits\n",
      "Best Parameters:\n",
      "\tpredictor__C: 0.1\n",
      "\tpredictor__penalty: l2\n",
      "\tpredictor__tol: 0.0001\n",
      "****** FINISH Best Model: Logistic Regression  *****\n",
      "\n",
      "****** START Best Model: K-Nearest Neighbors *****\n",
      "Parameters:\n",
      "\tn_neighbors: (3, 5, 7, 8, 11)\n",
      "\tp: (1, 2)\n",
      "Fitting 5 folds for each of 10 candidates, totalling 50 fits\n",
      "Best Parameters:\n",
      "\tpredictor__n_neighbors: 7\n",
      "\tpredictor__p: 1\n",
      "****** FINISH Best Model: K-Nearest Neighbors  *****\n",
      "\n",
      "****** START Best Model: Naive Bayes *****\n",
      "Parameters:\n",
      "Fitting 5 folds for each of 1 candidates, totalling 5 fits\n",
      "Best Parameters:\n",
      "****** FINISH Best Model: Naive Bayes  *****\n",
      "\n",
      "****** START Best Model: Support Vector *****\n",
      "Parameters:\n",
      "\tC: (10, 1, 0.1, 0.01)\n",
      "\tdegree: (1, 2, 3, 4, 5)\n",
      "\tkernel: ('rbf', 'poly')\n",
      "Fitting 5 folds for each of 40 candidates, totalling 200 fits\n",
      "Best Parameters:\n",
      "\tpredictor__C: 1\n",
      "\tpredictor__degree: 3\n",
      "\tpredictor__kernel: poly\n",
      "****** FINISH Best Model: Support Vector  *****\n",
      "\n",
      "****** START Best Model: Stochastic GD *****\n",
      "Parameters:\n",
      "\talpha: (0.1, 0.01, 0.001, 0.0001)\n",
      "\tloss: ('hinge', 'perceptron', 'log')\n",
      "\tpenalty: ('l1', 'l2', 'elasticnet')\n",
      "\ttol: (0.0001, 1e-05, 1e-07)\n",
      "Fitting 5 folds for each of 108 candidates, totalling 540 fits\n",
      "Best Parameters:\n",
      "\tpredictor__alpha: 0.01\n",
      "\tpredictor__loss: log\n",
      "\tpredictor__penalty: l2\n",
      "\tpredictor__tol: 0.0001\n",
      "****** FINISH Best Model: Stochastic GD  *****\n",
      "\n",
      "****** START Best Model: RandomForest *****\n",
      "Parameters:\n",
      "\tbootstrap: [False]\n",
      "\tmax_depth: [9, 15, 22, 26, 30]\n",
      "\tmax_features: [1, 3, 5]\n",
      "\tmin_samples_leaf: [3, 5, 10]\n",
      "\tmin_samples_split: [5, 10, 15]\n",
      "\tn_estimators: [20, 80, 150, 200, 300]\n",
      "Fitting 5 folds for each of 675 candidates, totalling 3375 fits\n",
      "Best Parameters:\n",
      "\tpredictor__bootstrap: False\n",
      "\tpredictor__max_depth: 15\n",
      "\tpredictor__max_features: 5\n",
      "\tpredictor__min_samples_leaf: 3\n",
      "\tpredictor__min_samples_split: 5\n",
      "\tpredictor__n_estimators: 200\n",
      "****** FINISH Best Model: RandomForest  *****\n",
      "\n",
      "CPU times: user 32.4 s, sys: 943 ms, total: 33.4 s\n",
      "Wall time: 1min 59s\n"
     ]
    }
   ],
   "source": [
    "%%time\n",
    "# This might take a while\n",
    "if __name__ == \"__main__\":\n",
    "    # multiprocessing requires the fork to happen in a __main__ protected\n",
    "    # block\n",
    "\n",
    "    # find the best parameters for both the feature extraction and the\n",
    "    # classifier\n",
    "    # n_jobs=-1 means that the computation will be dispatched on all the CPUs of the computer.\n",
    "    #\n",
    "    # By default, the GridSearchCV uses a 3-fold cross-validation. However, if it \n",
    "    #            detects that a classifier is passed, rather than a regressor, it uses a stratified 3-fold.\n",
    "    ConductGridSearch(x_train, y_train, x_valid, y_valid, x_test, y_test, 0, \"Best Model:\",  n_jobs=-1,verbose=1)"
   ]
  },
  {
   "cell_type": "code",
   "execution_count": null,
   "metadata": {
    "ExecuteTime": {
     "end_time": "2018-11-09T00:35:36.843340Z",
     "start_time": "2018-11-09T00:35:36.832770Z"
    }
   },
   "outputs": [
    {
     "data": {
      "text/html": [
       "<div>\n",
       "<style scoped>\n",
       "    .dataframe tbody tr th:only-of-type {\n",
       "        vertical-align: middle;\n",
       "    }\n",
       "\n",
       "    .dataframe tbody tr th {\n",
       "        vertical-align: top;\n",
       "    }\n",
       "\n",
       "    .dataframe thead th {\n",
       "        text-align: right;\n",
       "    }\n",
       "</style>\n",
       "<table border=\"1\" class=\"dataframe\">\n",
       "  <thead>\n",
       "    <tr style=\"text-align: right;\">\n",
       "      <th></th>\n",
       "      <th>ExpID</th>\n",
       "      <th>Train accuracy</th>\n",
       "      <th>Cross fold validation Accuracy</th>\n",
       "      <th>Test Accuracy</th>\n",
       "      <th>p-value</th>\n",
       "      <th>Train Time(s)</th>\n",
       "      <th>Test Time(s)</th>\n",
       "      <th>Experiment description</th>\n",
       "    </tr>\n",
       "  </thead>\n",
       "  <tbody>\n",
       "    <tr>\n",
       "      <th>0</th>\n",
       "      <td>Baseline</td>\n",
       "      <td>80.0</td>\n",
       "      <td>81.1</td>\n",
       "      <td>81.3</td>\n",
       "      <td>---</td>\n",
       "      <td>0.0440</td>\n",
       "      <td>0.0114</td>\n",
       "      <td>Untuned LogisticRegression</td>\n",
       "    </tr>\n",
       "    <tr>\n",
       "      <th>1</th>\n",
       "      <td>Best Model:Logistic Regression</td>\n",
       "      <td>80.7</td>\n",
       "      <td>80.2</td>\n",
       "      <td>80.6</td>\n",
       "      <td>0.05458</td>\n",
       "      <td>0.0358</td>\n",
       "      <td>0.0091</td>\n",
       "      <td>[[\"predictor__C\", 0.1], [\"predictor__penalty\",...</td>\n",
       "    </tr>\n",
       "    <tr>\n",
       "      <th>2</th>\n",
       "      <td>Best Model:K-Nearest Neighbors</td>\n",
       "      <td>82.6</td>\n",
       "      <td>82.0</td>\n",
       "      <td>82.8</td>\n",
       "      <td>0.18011</td>\n",
       "      <td>0.0574</td>\n",
       "      <td>0.0192</td>\n",
       "      <td>[[\"predictor__n_neighbors\", 7], [\"predictor__p...</td>\n",
       "    </tr>\n",
       "    <tr>\n",
       "      <th>3</th>\n",
       "      <td>Best Model:Naive Bayes</td>\n",
       "      <td>77.3</td>\n",
       "      <td>81.2</td>\n",
       "      <td>76.9</td>\n",
       "      <td>0.92757</td>\n",
       "      <td>0.0242</td>\n",
       "      <td>0.0096</td>\n",
       "      <td>[]</td>\n",
       "    </tr>\n",
       "    <tr>\n",
       "      <th>4</th>\n",
       "      <td>Best Model:Support Vector</td>\n",
       "      <td>83.6</td>\n",
       "      <td>83.6</td>\n",
       "      <td>80.6</td>\n",
       "      <td>0.00009</td>\n",
       "      <td>0.0487</td>\n",
       "      <td>0.0122</td>\n",
       "      <td>[[\"predictor__C\", 1], [\"predictor__degree\", 3]...</td>\n",
       "    </tr>\n",
       "    <tr>\n",
       "      <th>5</th>\n",
       "      <td>Best Model:Stochastic GD</td>\n",
       "      <td>80.5</td>\n",
       "      <td>81.6</td>\n",
       "      <td>80.6</td>\n",
       "      <td>0.11526</td>\n",
       "      <td>0.0276</td>\n",
       "      <td>0.0095</td>\n",
       "      <td>[[\"predictor__alpha\", 0.01], [\"predictor__loss...</td>\n",
       "    </tr>\n",
       "    <tr>\n",
       "      <th>6</th>\n",
       "      <td>Best Model:RandomForest</td>\n",
       "      <td>90.9</td>\n",
       "      <td>80.9</td>\n",
       "      <td>85.1</td>\n",
       "      <td>0.7301</td>\n",
       "      <td>0.3629</td>\n",
       "      <td>0.0446</td>\n",
       "      <td>[[\"predictor__bootstrap\", false], [\"predictor_...</td>\n",
       "    </tr>\n",
       "  </tbody>\n",
       "</table>\n",
       "</div>"
      ],
      "text/plain": [
       "                            ExpID  Train accuracy  \\\n",
       "0                        Baseline            80.0   \n",
       "1  Best Model:Logistic Regression            80.7   \n",
       "2  Best Model:K-Nearest Neighbors            82.6   \n",
       "3          Best Model:Naive Bayes            77.3   \n",
       "4       Best Model:Support Vector            83.6   \n",
       "5        Best Model:Stochastic GD            80.5   \n",
       "6         Best Model:RandomForest            90.9   \n",
       "\n",
       "   Cross fold validation Accuracy  Test Accuracy  p-value  Train Time(s)  \\\n",
       "0                            81.1           81.3      ---         0.0440   \n",
       "1                            80.2           80.6  0.05458         0.0358   \n",
       "2                            82.0           82.8  0.18011         0.0574   \n",
       "3                            81.2           76.9  0.92757         0.0242   \n",
       "4                            83.6           80.6  0.00009         0.0487   \n",
       "5                            81.6           80.6  0.11526         0.0276   \n",
       "6                            80.9           85.1   0.7301         0.3629   \n",
       "\n",
       "   Test Time(s)                             Experiment description  \n",
       "0        0.0114                         Untuned LogisticRegression  \n",
       "1        0.0091  [[\"predictor__C\", 0.1], [\"predictor__penalty\",...  \n",
       "2        0.0192  [[\"predictor__n_neighbors\", 7], [\"predictor__p...  \n",
       "3        0.0096                                                 []  \n",
       "4        0.0122  [[\"predictor__C\", 1], [\"predictor__degree\", 3]...  \n",
       "5        0.0095  [[\"predictor__alpha\", 0.01], [\"predictor__loss...  \n",
       "6        0.0446  [[\"predictor__bootstrap\", false], [\"predictor_...  "
      ]
     },
     "execution_count": 55,
     "metadata": {},
     "output_type": "execute_result"
    }
   ],
   "source": [
    "results"
   ]
  },
  {
   "cell_type": "markdown",
   "metadata": {},
   "source": [
    "## Observations"
   ]
  },
  {
   "cell_type": "markdown",
   "metadata": {},
   "source": [
    "* The Support Vector Classifier with parameters [C=1, degree=3, kernel=poly] had the best overall performance. The p-values of 0.00009 indicate that the results are signficantly different from the baseline Logistic Regression model. \n",
    "* There tuned Logistic Regression was not statistically different than the baseline (untuned) model."
   ]
  },
  {
   "cell_type": "markdown",
   "metadata": {},
   "source": [
    "# OPTIONAL: TMDB Box Office Prediction on Kaggle"
   ]
  },
  {
   "cell_type": "markdown",
   "metadata": {},
   "source": [
    " For this part of the homework \n",
    "You will need to look at the  [TMDB Box Office Prediction Competition on Kaggle](https://www.kaggle.com/c/tmdb-box-office-prediction)\n",
    "Through the lectures and lab we learned how to predict house prices in California. In this homework, we adopted  the end to end pipeline to tackle the Titanic Survival problem. Now, we want you to adopt the machine learning pipeline to tackle the TMDB Box Office Prediction\n",
    "\n",
    "In this dataset, you are provided with 7,398  movies (3,000 for training and 4,398 for testing) and a variety of metadata obtained from The Movie Database (TMDB). Movies are labeled with id. Data points include cast, crew, plot keywords, budget, posters, release dates, languages, production companies, and countries.\n",
    "\n",
    "Feel free to use the [Kaggle API](https://github.com/Kaggle/kaggle-api) for downloading the dataset or submitting to the competition. It is not mandatory to use the package but it would be interesting to explore.\n",
    "   You will need to: \n",
    "* __Important:__ Make sure your results are reproducible \n",
    "* __Important:__ Use the training data set provided by the competition to create a training set(70%), validation set (15%) and a test set (15%)\n",
    "* __EDA.__ Identify the types of data available, evaluate basic statistical information about the data and determine whether you have any missing or misformated data.\n",
    "\n",
    "* __Feature Engineering.__  Develop at least one new feature based on the existing features of the dataset\n",
    "* __Pre-processing.__  All work must be performed using pipelines.  You can adapt code from above or develop your own.\n",
    "* __Modeling.__Evaluate at least two appropriate algorithms (estimators) for generating predictions.\n",
    "    * Use grid search to tune hyperparameters.\n",
    "    * Use crossfold evaluation (cv=5).\n",
    "* __Evaluation.__ Select appropriate metrics for the problem to evaluate your models.\n",
    "* __Reporting.__ Record all experiments in a table of results (pandas dataframe) including at least the following information:  \n",
    "    * description of the model (algorithim, notable processing steps) \n",
    "    * key hyperparameters\n",
    "    * results (using one or more appropriate metrics)\n",
    "    * run time for each experiment (train and test results)\n",
    "    * hardware used\n",
    "* __Analysis__. Perform a significance test on your best models and discuss results (see Module 09.5 in Canvas for a video lecture on significance testing).\n",
    "* __Submit your best model to Kaggle__ Provide a screenshot of the kaggle submission\n",
    "* __Comment your code and provide explanations of how you're proceeding in each part__\n"
   ]
  },
  {
   "cell_type": "markdown",
   "metadata": {},
   "source": [
    "## Data Import & notebook preperation\n"
   ]
  },
  {
   "cell_type": "code",
   "execution_count": null,
   "metadata": {},
   "outputs": [],
   "source": [
    "import pandas as pd\n"
   ]
  },
  {
   "cell_type": "code",
   "execution_count": null,
   "metadata": {},
   "outputs": [],
   "source": [
    "data = pd.read_csv('datasets/TMDB/train.csv')\n",
    "y = data ['revenue']\n",
    "x = data .drop(['revenue'], axis = 1)\n",
    "test_data = pd.read_csv('datasets/TMDB/test.csv')\n"
   ]
  },
  {
   "cell_type": "markdown",
   "metadata": {},
   "source": [
    "* __Important:__ Remember that x and y should be split into a training set (70% of the original dataset), a validation set (15% of the original dataset) and a test set (15% of the original dataset. \n",
    "* test_data will be only used for the kaggle submission"
   ]
  },
  {
   "cell_type": "markdown",
   "metadata": {},
   "source": [
    "## EDA"
   ]
  },
  {
   "cell_type": "code",
   "execution_count": null,
   "metadata": {},
   "outputs": [],
   "source": []
  },
  {
   "cell_type": "markdown",
   "metadata": {},
   "source": [
    "## Feature engineering"
   ]
  },
  {
   "cell_type": "code",
   "execution_count": null,
   "metadata": {},
   "outputs": [],
   "source": []
  },
  {
   "cell_type": "markdown",
   "metadata": {},
   "source": [
    "## Preprocessing\n"
   ]
  },
  {
   "cell_type": "code",
   "execution_count": null,
   "metadata": {},
   "outputs": [],
   "source": []
  },
  {
   "cell_type": "markdown",
   "metadata": {},
   "source": [
    "## Modeling"
   ]
  },
  {
   "cell_type": "code",
   "execution_count": null,
   "metadata": {},
   "outputs": [],
   "source": []
  },
  {
   "cell_type": "markdown",
   "metadata": {},
   "source": [
    "## Evaluation, reporting and analysis\n"
   ]
  },
  {
   "cell_type": "code",
   "execution_count": null,
   "metadata": {},
   "outputs": [],
   "source": []
  },
  {
   "cell_type": "markdown",
   "metadata": {},
   "source": [
    "## Kaggle Submission\n"
   ]
  },
  {
   "cell_type": "code",
   "execution_count": null,
   "metadata": {
    "tags": []
   },
   "outputs": [],
   "source": []
  },
  {
   "cell_type": "markdown",
   "metadata": {},
   "source": [
    "# Monitoring Training Performance With XGBoost\n",
    "**Important: If you are using Docker course container for ARM architecture, please run the section 8 code on Google colab to get the same result as the x86 Docker course container**\n",
    "\n",
    "The XGBoost model can evaluate and report on the performance on a test set for the the model during training.\n",
    "\n",
    "It supports this capability by specifying both an test dataset and an evaluation metric on the call to model.fit() when training the model and specifying verbose output.\n",
    "\n",
    "For example, we can report on the binary classification error rate (“error“) on a standalone test set (eval_set) while training an XGBoost model as follows:\n",
    "\n",
    "```python\n",
    "eval_set = [(X_test, y_test)]\n",
    "model.fit(X_train, y_train, eval_metric=\"error\", eval_set=eval_set, verbose=True)\n",
    "\n",
    "```\n",
    "XGBoost supports a suite of evaluation metrics not limited to:\n",
    "\n",
    "* “rmse” for root mean squared error.\n",
    "* “mae” for mean absolute error.\n",
    "* “logloss” for binary logarithmic loss and “mlogloss” for multi-class log loss (cross entropy).\n",
    "* “error” for classification error.\n",
    "* “auc” for area under ROC curve.\n",
    "\n",
    "The full list is provided in the [Learning Task Parameters](http://xgboost.readthedocs.io/en/latest//parameter.html) section of the XGBoost Parameters webpage.\n",
    "\n",
    "This section is based on [this webpage](https://machinelearningmastery.com/avoid-overfitting-by-early-stopping-with-xgboost-in-python/).\n",
    "\n",
    "For example, we can demonstrate how to track the performance of the training of an XGBoost model on the Pima Indians onset of diabetes dataset, available from the UCI Machine Learning Repository.\n",
    "\n",
    "The full example is provided below:\n",
    "\n"
   ]
  },
  {
   "cell_type": "code",
   "execution_count": null,
   "metadata": {},
   "outputs": [
    {
     "name": "stdout",
     "output_type": "stream",
     "text": [
      "/N/home/u010/amandyar/Carbonate/Desktop/AML/I526_AML_Student/Assignments/Unit-13-Pipelines-and-end-to-end-ML-Project\n"
     ]
    }
   ],
   "source": [
    "!pwd"
   ]
  },
  {
   "cell_type": "code",
   "execution_count": 59,
   "metadata": {},
   "outputs": [
    {
     "name": "stdout",
     "output_type": "stream",
     "text": [
      "[0]\tvalidation_0-error:0.14169\tvalidation_0-logloss:0.55659\tvalidation_1-error:0.26623\tvalidation_1-logloss:0.59868\n",
      "[1]\tvalidation_0-error:0.12704\tvalidation_0-logloss:0.47523\tvalidation_1-error:0.20779\tvalidation_1-logloss:0.53884\n",
      "[2]\tvalidation_0-error:0.11075\tvalidation_0-logloss:0.41111\tvalidation_1-error:0.25325\tvalidation_1-logloss:0.51511\n",
      "[3]\tvalidation_0-error:0.09935\tvalidation_0-logloss:0.36541\tvalidation_1-error:0.25325\tvalidation_1-logloss:0.49522\n",
      "[4]\tvalidation_0-error:0.09772\tvalidation_0-logloss:0.33817\tvalidation_1-error:0.25325\tvalidation_1-logloss:0.49203\n",
      "[5]\tvalidation_0-error:0.08958\tvalidation_0-logloss:0.31491\tvalidation_1-error:0.24675\tvalidation_1-logloss:0.48838\n",
      "[6]\tvalidation_0-error:0.09120\tvalidation_0-logloss:0.29348\tvalidation_1-error:0.24675\tvalidation_1-logloss:0.48265\n",
      "[7]\tvalidation_0-error:0.08795\tvalidation_0-logloss:0.27777\tvalidation_1-error:0.22727\tvalidation_1-logloss:0.48166\n",
      "[8]\tvalidation_0-error:0.06515\tvalidation_0-logloss:0.25941\tvalidation_1-error:0.23377\tvalidation_1-logloss:0.48194\n",
      "[9]\tvalidation_0-error:0.06352\tvalidation_0-logloss:0.24507\tvalidation_1-error:0.22727\tvalidation_1-logloss:0.48107\n",
      "[10]\tvalidation_0-error:0.06026\tvalidation_0-logloss:0.23417\tvalidation_1-error:0.23377\tvalidation_1-logloss:0.48081\n",
      "[11]\tvalidation_0-error:0.05375\tvalidation_0-logloss:0.22420\tvalidation_1-error:0.24675\tvalidation_1-logloss:0.48464\n",
      "[12]\tvalidation_0-error:0.04886\tvalidation_0-logloss:0.21566\tvalidation_1-error:0.25974\tvalidation_1-logloss:0.48164\n",
      "[13]\tvalidation_0-error:0.04397\tvalidation_0-logloss:0.20994\tvalidation_1-error:0.25974\tvalidation_1-logloss:0.48102\n",
      "[14]\tvalidation_0-error:0.03746\tvalidation_0-logloss:0.20291\tvalidation_1-error:0.25325\tvalidation_1-logloss:0.48444\n",
      "[15]\tvalidation_0-error:0.02443\tvalidation_0-logloss:0.19056\tvalidation_1-error:0.25325\tvalidation_1-logloss:0.49379\n",
      "[16]\tvalidation_0-error:0.02769\tvalidation_0-logloss:0.18596\tvalidation_1-error:0.24026\tvalidation_1-logloss:0.49739\n",
      "[17]\tvalidation_0-error:0.02280\tvalidation_0-logloss:0.18220\tvalidation_1-error:0.24675\tvalidation_1-logloss:0.49816\n",
      "[18]\tvalidation_0-error:0.02117\tvalidation_0-logloss:0.17100\tvalidation_1-error:0.25325\tvalidation_1-logloss:0.49997\n",
      "[19]\tvalidation_0-error:0.01792\tvalidation_0-logloss:0.16473\tvalidation_1-error:0.25325\tvalidation_1-logloss:0.50532\n",
      "[20]\tvalidation_0-error:0.01954\tvalidation_0-logloss:0.16202\tvalidation_1-error:0.25325\tvalidation_1-logloss:0.50746\n",
      "[21]\tvalidation_0-error:0.01629\tvalidation_0-logloss:0.15730\tvalidation_1-error:0.25974\tvalidation_1-logloss:0.51285\n",
      "[22]\tvalidation_0-error:0.01629\tvalidation_0-logloss:0.15500\tvalidation_1-error:0.25974\tvalidation_1-logloss:0.51417\n",
      "[23]\tvalidation_0-error:0.00977\tvalidation_0-logloss:0.15044\tvalidation_1-error:0.25325\tvalidation_1-logloss:0.51721\n",
      "[24]\tvalidation_0-error:0.00814\tvalidation_0-logloss:0.14790\tvalidation_1-error:0.25974\tvalidation_1-logloss:0.52009\n",
      "[25]\tvalidation_0-error:0.00977\tvalidation_0-logloss:0.14221\tvalidation_1-error:0.25325\tvalidation_1-logloss:0.52250\n",
      "[26]\tvalidation_0-error:0.00814\tvalidation_0-logloss:0.13847\tvalidation_1-error:0.25974\tvalidation_1-logloss:0.52226\n",
      "[27]\tvalidation_0-error:0.00651\tvalidation_0-logloss:0.13267\tvalidation_1-error:0.26623\tvalidation_1-logloss:0.53177\n",
      "[28]\tvalidation_0-error:0.00489\tvalidation_0-logloss:0.12966\tvalidation_1-error:0.25325\tvalidation_1-logloss:0.53582\n",
      "[29]\tvalidation_0-error:0.00489\tvalidation_0-logloss:0.12609\tvalidation_1-error:0.25974\tvalidation_1-logloss:0.54132\n",
      "[30]\tvalidation_0-error:0.00326\tvalidation_0-logloss:0.11919\tvalidation_1-error:0.25974\tvalidation_1-logloss:0.55282\n",
      "[31]\tvalidation_0-error:0.00326\tvalidation_0-logloss:0.11510\tvalidation_1-error:0.25974\tvalidation_1-logloss:0.55208\n",
      "[32]\tvalidation_0-error:0.00326\tvalidation_0-logloss:0.10904\tvalidation_1-error:0.25325\tvalidation_1-logloss:0.55920\n",
      "[33]\tvalidation_0-error:0.00163\tvalidation_0-logloss:0.10425\tvalidation_1-error:0.24675\tvalidation_1-logloss:0.55779\n",
      "[34]\tvalidation_0-error:0.00163\tvalidation_0-logloss:0.10008\tvalidation_1-error:0.25325\tvalidation_1-logloss:0.56413\n",
      "[35]\tvalidation_0-error:0.00163\tvalidation_0-logloss:0.09662\tvalidation_1-error:0.25974\tvalidation_1-logloss:0.56946\n",
      "[36]\tvalidation_0-error:0.00163\tvalidation_0-logloss:0.09320\tvalidation_1-error:0.25974\tvalidation_1-logloss:0.56847\n",
      "[37]\tvalidation_0-error:0.00163\tvalidation_0-logloss:0.09025\tvalidation_1-error:0.25974\tvalidation_1-logloss:0.57795\n",
      "[38]\tvalidation_0-error:0.00163\tvalidation_0-logloss:0.08821\tvalidation_1-error:0.25974\tvalidation_1-logloss:0.58228\n",
      "[39]\tvalidation_0-error:0.00163\tvalidation_0-logloss:0.08622\tvalidation_1-error:0.25974\tvalidation_1-logloss:0.58344\n",
      "[40]\tvalidation_0-error:0.00163\tvalidation_0-logloss:0.08449\tvalidation_1-error:0.25974\tvalidation_1-logloss:0.58704\n",
      "[41]\tvalidation_0-error:0.00163\tvalidation_0-logloss:0.08196\tvalidation_1-error:0.25974\tvalidation_1-logloss:0.58250\n",
      "[42]\tvalidation_0-error:0.00163\tvalidation_0-logloss:0.08081\tvalidation_1-error:0.26623\tvalidation_1-logloss:0.58316\n",
      "[43]\tvalidation_0-error:0.00163\tvalidation_0-logloss:0.07995\tvalidation_1-error:0.27273\tvalidation_1-logloss:0.59038\n",
      "[44]\tvalidation_0-error:0.00163\tvalidation_0-logloss:0.07703\tvalidation_1-error:0.27273\tvalidation_1-logloss:0.60115\n",
      "[45]\tvalidation_0-error:0.00163\tvalidation_0-logloss:0.07616\tvalidation_1-error:0.26623\tvalidation_1-logloss:0.60246\n",
      "[46]\tvalidation_0-error:0.00163\tvalidation_0-logloss:0.07323\tvalidation_1-error:0.25974\tvalidation_1-logloss:0.60394\n",
      "[47]\tvalidation_0-error:0.00163\tvalidation_0-logloss:0.07188\tvalidation_1-error:0.25974\tvalidation_1-logloss:0.60862\n",
      "[48]\tvalidation_0-error:0.00000\tvalidation_0-logloss:0.06974\tvalidation_1-error:0.26623\tvalidation_1-logloss:0.60511\n",
      "[49]\tvalidation_0-error:0.00163\tvalidation_0-logloss:0.06880\tvalidation_1-error:0.26623\tvalidation_1-logloss:0.60780\n",
      "[50]\tvalidation_0-error:0.00000\tvalidation_0-logloss:0.06747\tvalidation_1-error:0.26623\tvalidation_1-logloss:0.60845\n",
      "[51]\tvalidation_0-error:0.00000\tvalidation_0-logloss:0.06666\tvalidation_1-error:0.26623\tvalidation_1-logloss:0.60840\n",
      "[52]\tvalidation_0-error:0.00000\tvalidation_0-logloss:0.06564\tvalidation_1-error:0.26623\tvalidation_1-logloss:0.61099\n",
      "[53]\tvalidation_0-error:0.00000\tvalidation_0-logloss:0.06490\tvalidation_1-error:0.26623\tvalidation_1-logloss:0.61387\n",
      "[54]\tvalidation_0-error:0.00000\tvalidation_0-logloss:0.06307\tvalidation_1-error:0.26623\tvalidation_1-logloss:0.61171\n",
      "[55]\tvalidation_0-error:0.00000\tvalidation_0-logloss:0.06167\tvalidation_1-error:0.25974\tvalidation_1-logloss:0.61323\n",
      "[56]\tvalidation_0-error:0.00000\tvalidation_0-logloss:0.06064\tvalidation_1-error:0.25974\tvalidation_1-logloss:0.61674\n",
      "[57]\tvalidation_0-error:0.00000\tvalidation_0-logloss:0.05915\tvalidation_1-error:0.25974\tvalidation_1-logloss:0.61885\n",
      "[58]\tvalidation_0-error:0.00000\tvalidation_0-logloss:0.05792\tvalidation_1-error:0.25974\tvalidation_1-logloss:0.61864\n",
      "[59]\tvalidation_0-error:0.00000\tvalidation_0-logloss:0.05686\tvalidation_1-error:0.25974\tvalidation_1-logloss:0.62200\n",
      "[60]\tvalidation_0-error:0.00000\tvalidation_0-logloss:0.05572\tvalidation_1-error:0.26623\tvalidation_1-logloss:0.62461\n",
      "[61]\tvalidation_0-error:0.00000\tvalidation_0-logloss:0.05480\tvalidation_1-error:0.26623\tvalidation_1-logloss:0.62615\n",
      "[62]\tvalidation_0-error:0.00000\tvalidation_0-logloss:0.05386\tvalidation_1-error:0.27273\tvalidation_1-logloss:0.63009\n",
      "[63]\tvalidation_0-error:0.00000\tvalidation_0-logloss:0.05278\tvalidation_1-error:0.27273\tvalidation_1-logloss:0.62777\n",
      "[64]\tvalidation_0-error:0.00000\tvalidation_0-logloss:0.05144\tvalidation_1-error:0.26623\tvalidation_1-logloss:0.63359\n",
      "[65]\tvalidation_0-error:0.00000\tvalidation_0-logloss:0.05109\tvalidation_1-error:0.26623\tvalidation_1-logloss:0.63598\n",
      "[66]\tvalidation_0-error:0.00000\tvalidation_0-logloss:0.04992\tvalidation_1-error:0.26623\tvalidation_1-logloss:0.64018\n",
      "[67]\tvalidation_0-error:0.00000\tvalidation_0-logloss:0.04944\tvalidation_1-error:0.26623\tvalidation_1-logloss:0.64287\n",
      "[68]\tvalidation_0-error:0.00000\tvalidation_0-logloss:0.04874\tvalidation_1-error:0.27273\tvalidation_1-logloss:0.64527\n",
      "[69]\tvalidation_0-error:0.00000\tvalidation_0-logloss:0.04786\tvalidation_1-error:0.26623\tvalidation_1-logloss:0.64610\n",
      "[70]\tvalidation_0-error:0.00000\tvalidation_0-logloss:0.04701\tvalidation_1-error:0.27273\tvalidation_1-logloss:0.64541\n",
      "[71]\tvalidation_0-error:0.00000\tvalidation_0-logloss:0.04662\tvalidation_1-error:0.27273\tvalidation_1-logloss:0.64683\n",
      "[72]\tvalidation_0-error:0.00000\tvalidation_0-logloss:0.04609\tvalidation_1-error:0.26623\tvalidation_1-logloss:0.64821\n",
      "[73]\tvalidation_0-error:0.00000\tvalidation_0-logloss:0.04521\tvalidation_1-error:0.25974\tvalidation_1-logloss:0.65033\n",
      "[74]\tvalidation_0-error:0.00000\tvalidation_0-logloss:0.04472\tvalidation_1-error:0.25974\tvalidation_1-logloss:0.65178\n",
      "[75]\tvalidation_0-error:0.00000\tvalidation_0-logloss:0.04410\tvalidation_1-error:0.25974\tvalidation_1-logloss:0.65117\n",
      "[76]\tvalidation_0-error:0.00000\tvalidation_0-logloss:0.04316\tvalidation_1-error:0.26623\tvalidation_1-logloss:0.65007\n",
      "[77]\tvalidation_0-error:0.00000\tvalidation_0-logloss:0.04236\tvalidation_1-error:0.27273\tvalidation_1-logloss:0.65038\n",
      "[78]\tvalidation_0-error:0.00000\tvalidation_0-logloss:0.04181\tvalidation_1-error:0.27273\tvalidation_1-logloss:0.65078\n",
      "[79]\tvalidation_0-error:0.00000\tvalidation_0-logloss:0.04131\tvalidation_1-error:0.27273\tvalidation_1-logloss:0.65168\n",
      "[80]\tvalidation_0-error:0.00000\tvalidation_0-logloss:0.04048\tvalidation_1-error:0.26623\tvalidation_1-logloss:0.65432\n",
      "[81]\tvalidation_0-error:0.00000\tvalidation_0-logloss:0.03982\tvalidation_1-error:0.26623\tvalidation_1-logloss:0.65722\n",
      "[82]\tvalidation_0-error:0.00000\tvalidation_0-logloss:0.03910\tvalidation_1-error:0.26623\tvalidation_1-logloss:0.65974\n",
      "[83]\tvalidation_0-error:0.00000\tvalidation_0-logloss:0.03870\tvalidation_1-error:0.27273\tvalidation_1-logloss:0.66359\n",
      "[84]\tvalidation_0-error:0.00000\tvalidation_0-logloss:0.03830\tvalidation_1-error:0.27273\tvalidation_1-logloss:0.66576\n",
      "[85]\tvalidation_0-error:0.00000\tvalidation_0-logloss:0.03775\tvalidation_1-error:0.26623\tvalidation_1-logloss:0.66827\n",
      "[86]\tvalidation_0-error:0.00000\tvalidation_0-logloss:0.03720\tvalidation_1-error:0.27273\tvalidation_1-logloss:0.67186\n",
      "[87]\tvalidation_0-error:0.00000\tvalidation_0-logloss:0.03659\tvalidation_1-error:0.26623\tvalidation_1-logloss:0.67302\n",
      "[88]\tvalidation_0-error:0.00000\tvalidation_0-logloss:0.03606\tvalidation_1-error:0.26623\tvalidation_1-logloss:0.67143\n",
      "[89]\tvalidation_0-error:0.00000\tvalidation_0-logloss:0.03569\tvalidation_1-error:0.27273\tvalidation_1-logloss:0.67435\n",
      "[90]\tvalidation_0-error:0.00000\tvalidation_0-logloss:0.03530\tvalidation_1-error:0.26623\tvalidation_1-logloss:0.67874\n",
      "[91]\tvalidation_0-error:0.00000\tvalidation_0-logloss:0.03461\tvalidation_1-error:0.25974\tvalidation_1-logloss:0.68089\n",
      "[92]\tvalidation_0-error:0.00000\tvalidation_0-logloss:0.03422\tvalidation_1-error:0.26623\tvalidation_1-logloss:0.68371\n",
      "[93]\tvalidation_0-error:0.00000\tvalidation_0-logloss:0.03382\tvalidation_1-error:0.25974\tvalidation_1-logloss:0.68274\n",
      "[94]\tvalidation_0-error:0.00000\tvalidation_0-logloss:0.03334\tvalidation_1-error:0.25974\tvalidation_1-logloss:0.68456\n",
      "[95]\tvalidation_0-error:0.00000\tvalidation_0-logloss:0.03299\tvalidation_1-error:0.25974\tvalidation_1-logloss:0.68796\n",
      "[96]\tvalidation_0-error:0.00000\tvalidation_0-logloss:0.03261\tvalidation_1-error:0.25974\tvalidation_1-logloss:0.68856\n",
      "[97]\tvalidation_0-error:0.00000\tvalidation_0-logloss:0.03234\tvalidation_1-error:0.25325\tvalidation_1-logloss:0.68891\n",
      "[98]\tvalidation_0-error:0.00000\tvalidation_0-logloss:0.03197\tvalidation_1-error:0.25325\tvalidation_1-logloss:0.69222\n",
      "[99]\tvalidation_0-error:0.00000\tvalidation_0-logloss:0.03161\tvalidation_1-error:0.25974\tvalidation_1-logloss:0.69271\n",
      "TEST Accuracy: 74.03%\n"
     ]
    }
   ],
   "source": [
    "# plot learning curve\n",
    "from numpy import loadtxt\n",
    "from xgboost import XGBClassifier\n",
    "from sklearn.model_selection import train_test_split\n",
    "from sklearn.metrics import accuracy_score\n",
    "from matplotlib import pyplot\n",
    "# load data\n",
    "dataset = loadtxt('datasets/pima-indians-diabetes.csv', delimiter=\",\")\n",
    "# split data into X and y\n",
    "X = dataset[:,0:8]\n",
    "Y = dataset[:,8]\n",
    "# split data into train and test sets\n",
    "X_train, X_test, y_train, y_test = train_test_split(X, Y, test_size=0.2, random_state=7)\n",
    "X_train, X_valid, y_train, y_valid = train_test_split(X, Y, test_size=0.2, random_state=7)\n",
    "# fit model \n",
    "# use 100 trees but use early stopping to build a smaller ensemble and thereby prevent overfitting \n",
    "model = XGBClassifier(n_estimators=100)\n",
    "eval_set = [(X_train, y_train), (X_valid, y_valid)]\n",
    "model.fit(X_train, y_train, eval_metric=[\"error\", \"logloss\"], eval_set=eval_set, verbose=True)\n",
    "# make predictions for test data\n",
    "y_pred = model.predict(X_test)\n",
    "predictions = [round(value) for value in y_pred]\n",
    "# evaluate predictions\n",
    "accuracy = accuracy_score(y_test, predictions)\n",
    "print(\"TEST Accuracy: %.2f%%\" % (accuracy * 100.0))"
   ]
  },
  {
   "cell_type": "markdown",
   "metadata": {},
   "source": [
    "## Evaluate XGBoost Models With Learning Curves\n",
    "We can retrieve the performance of the model on the evaluation dataset and plot it to get insight into how learning unfolded while training.\n",
    "\n",
    "We provide an array of X and y pairs to the eval_metric argument when fitting our XGBoost model. In addition to a test set, we can also provide the training dataset. This will provide a report on how well the model is performing on both training and test sets during training.\n",
    "\n"
   ]
  },
  {
   "cell_type": "code",
   "execution_count": 60,
   "metadata": {
    "code_folding": []
   },
   "outputs": [
    {
     "data": {
      "image/png": "[encoded data removed]",
      "text/plain": [
       "<Figure size 432x288 with 1 Axes>"
      ]
     },
     "metadata": {
      "needs_background": "light"
     },
     "output_type": "display_data"
    },
    {
     "data": {
      "image/png": "[encoded data removed]",
      "text/plain": [
       "<Figure size 432x288 with 1 Axes>"
      ]
     },
     "metadata": {
      "needs_background": "light"
     },
     "output_type": "display_data"
    }
   ],
   "source": [
    "# retrieve performance metrics\n",
    "results = model.evals_result()\n",
    "epochs = len(results['validation_0']['error'])\n",
    "x_axis = range(0, epochs)\n",
    "# plot log loss\n",
    "fig, ax = pyplot.subplots()\n",
    "ax.plot(x_axis, results['validation_0']['logloss'], label='Train')\n",
    "ax.plot(x_axis, results['validation_1']['logloss'], label='Valid')\n",
    "ax.legend()\n",
    "pyplot.ylabel('Log Loss')\n",
    "pyplot.title('XGBoost Log Loss')\n",
    "pyplot.grid()\n",
    "pyplot.show()\n",
    "# plot classification error\n",
    "fig, ax = pyplot.subplots()\n",
    "ax.plot(x_axis, results['validation_0']['error'], label='Train')\n",
    "ax.plot(x_axis, results['validation_1']['error'], label='Valid')\n",
    "ax.legend()\n",
    "pyplot.ylabel('Classification Error')\n",
    "pyplot.title('XGBoost Classification Error')\n",
    "pyplot.grid()\n",
    "pyplot.show()"
   ]
  },
  {
   "cell_type": "markdown",
   "metadata": {},
   "source": [
    "### Discussion\n",
    "Running this code reports the classification error on both the train and test datasets each epoch. We can turn this off by setting verbose=False (the default) in the call to the fit() function.\n",
    "\n",
    "Two plots were created. The first shows the logarithmic loss of the XGBoost model for each epoch on the training and test datasets.\n",
    "\n",
    "From reviewing the logloss plot, it looks like there is an opportunity to stop the learning early, perhaps somewhere around epoch 45 to epoch 60.\n",
    "\n",
    "We see a similar story for classification error, where error appears to go back up at around epoch 60."
   ]
  },
  {
   "cell_type": "markdown",
   "metadata": {},
   "source": [
    "## Early Stopping With XGBoost: early_stopping_rounds=10\n",
    "XGBoost supports early stopping after a fixed number of iterations.\n",
    "\n",
    "In addition to specifying a metric and test dataset for evaluation each epoch, you must specify a window of the number of epochs over which no improvement is observed. This is specified in the early_stopping_rounds parameter.\n",
    "\n",
    "For example, we can check for no improvement in logarithmic loss over the 10 epochs as follows:\n",
    "\n",
    "```python\n",
    "eval_set = [(X_test, y_test)]\n",
    "model.fit(X_train, y_train, early_stopping_rounds=10, eval_metric=\"logloss\", eval_set=eval_set, verbose=True)\n",
    "```\n",
    "If multiple evaluation datasets or multiple evaluation metrics are provided, then early stopping will use the last in the list.\n",
    "\n",
    "Below provides a full example for completeness with early stopping."
   ]
  },
  {
   "cell_type": "code",
   "execution_count": 62,
   "metadata": {},
   "outputs": [
    {
     "name": "stdout",
     "output_type": "stream",
     "text": [
      "[0]\tvalidation_0-logloss:0.59868\n",
      "[1]\tvalidation_0-logloss:0.53884\n",
      "[2]\tvalidation_0-logloss:0.51511\n",
      "[3]\tvalidation_0-logloss:0.49522\n",
      "[4]\tvalidation_0-logloss:0.49203\n",
      "[5]\tvalidation_0-logloss:0.48838\n",
      "[6]\tvalidation_0-logloss:0.48265\n",
      "[7]\tvalidation_0-logloss:0.48166\n",
      "[8]\tvalidation_0-logloss:0.48194\n",
      "[9]\tvalidation_0-logloss:0.48107\n",
      "[10]\tvalidation_0-logloss:0.48081\n",
      "[11]\tvalidation_0-logloss:0.48464\n",
      "[12]\tvalidation_0-logloss:0.48164\n",
      "[13]\tvalidation_0-logloss:0.48102\n",
      "[14]\tvalidation_0-logloss:0.48444\n",
      "[15]\tvalidation_0-logloss:0.49379\n",
      "[16]\tvalidation_0-logloss:0.49739\n",
      "[17]\tvalidation_0-logloss:0.49816\n",
      "[18]\tvalidation_0-logloss:0.49997\n",
      "[19]\tvalidation_0-logloss:0.50532\n",
      "Accuracy: 76.62%\n"
     ]
    }
   ],
   "source": [
    "from numpy import loadtxt\n",
    "from xgboost import XGBClassifier\n",
    "from sklearn.model_selection import train_test_split\n",
    "from sklearn.metrics import accuracy_score\n",
    "from matplotlib import pyplot\n",
    "# load data\n",
    "dataset = loadtxt('datasets/pima-indians-diabetes.csv', delimiter=\",\")\n",
    "# split data into X and y\n",
    "X = dataset[:,0:8]\n",
    "Y = dataset[:,8]\n",
    "# split data into train and test sets\n",
    "X_train, X_test, y_train, y_test = train_test_split(X, Y, test_size=0.2, random_state=7)\n",
    "X_train, X_valid, y_train, y_valid = train_test_split(X, Y, test_size=0.2, random_state=7)\n",
    "# fit model \n",
    "# use 100 trees but use early stopping to build a smaller ensemble and thereby prevent overfitting \n",
    "model = XGBClassifier(n_estimators=100)\n",
    "eval_set = [(X_test, y_test)]\n",
    "model.fit(X_train, y_train, early_stopping_rounds=10, eval_metric=\"logloss\", eval_set=eval_set, verbose=True)\n",
    "# make predictions for test data\n",
    "y_pred = model.predict(X_test)\n",
    "predictions = [round(value) for value in y_pred]\n",
    "# evaluate predictions\n",
    "accuracy = accuracy_score(y_test, predictions)\n",
    "print(\"Accuracy: %.2f%%\" % (accuracy * 100.0))"
   ]
  },
  {
   "cell_type": "markdown",
   "metadata": {},
   "source": [
    "Running the example provides the following output, truncated for brevity:\n",
    "\n",
    "```\n",
    "[48]\tvalidation_0-logloss:0.463471\n",
    "[49]\tvalidation_0-logloss:0.463432\n",
    "[50]\tvalidation_0-logloss:0.462447\n",
    "[51]\tvalidation_0-logloss:0.461978\n",
    "[52]\tvalidation_0-logloss:0.461132\n",
    "[53]\tvalidation_0-logloss:0.461343\n",
    "[54]\tvalidation_0-logloss:0.462114\n",
    "[55]\tvalidation_0-logloss:0.462166\n",
    "[56]\tvalidation_0-logloss:0.462295\n",
    "[57]\tvalidation_0-logloss:0.462918\n",
    "[58]\tvalidation_0-logloss:0.462871\n",
    "[59]\tvalidation_0-logloss:0.462235\n",
    "[60]\tvalidation_0-logloss:0.46168\n",
    "[61]\tvalidation_0-logloss:0.462099\n",
    "[62]\tvalidation_0-logloss:0.462628\n",
    "Stopping. Best iteration:\n",
    "[52]\tvalidation_0-logloss:0.461132\n",
    "\n",
    "Accuracy: 81.82%\n",
    "```"
   ]
  },
  {
   "cell_type": "markdown",
   "metadata": {},
   "source": [
    "### Discussion: early_stopping_rounds is set to 10% of training budget\n",
    "We can see that the model stopped training at epoch 52 (close to what we expected by our manual judgment of learning curves) and that the model with the best loss was observed at epoch 52.\n",
    "\n",
    "It is generally a good idea to select the early_stopping_rounds as a reasonable function of the total number of training epochs (10% in this case) or attempt to correspond to the period of inflection points as might be observed on plots of learning curves. Here, `early_stopping_rounds=10`.\n",
    "\n"
   ]
  },
  {
   "cell_type": "markdown",
   "metadata": {
    "tags": []
   },
   "source": [
    "## TASK:\n",
    "Adopt the code given in the section 8.2 and set the early stoping round to 1. Report the test accuracy   "
   ]
  },
  {
   "cell_type": "code",
   "execution_count": null,
   "metadata": {},
   "outputs": [],
   "source": []
  },
  {
   "cell_type": "markdown",
   "metadata": {},
   "source": [
    "Based on your observation on using different values for early stopping round, discuss why early stoping round set equals to 1 is not a good policy?"
   ]
  },
  {
   "cell_type": "code",
   "execution_count": null,
   "metadata": {},
   "outputs": [],
   "source": []
  }
 ],
 "metadata": {
  "kernelspec": {
   "display_name": "Python 3",
   "language": "python",
   "name": "python3"
  },
  "language_info": {
   "codemirror_mode": {
    "name": "ipython",
    "version": 3
   },
   "file_extension": ".py",
   "mimetype": "text/x-python",
   "name": "python",
   "nbconvert_exporter": "python",
   "pygments_lexer": "ipython3",
   "version": "3.9.7"
  },
  "toc": {
   "base_numbering": 1,
   "nav_menu": {},
   "number_sections": true,
   "sideBar": true,
   "skip_h1_title": false,
   "title_cell": "Table of Contents",
   "title_sidebar": "Contents",
   "toc_cell": false,
   "toc_position": {
    "height": "calc(100% - 180px)",
    "left": "10px",
    "top": "150px",
    "width": "287.984px"
   },
   "toc_section_display": "block",
   "toc_window_display": true
  },
  "toc-autonumbering": true,
  "toc-showmarkdowntxt": false,
  "varInspector": {
   "cols": {
    "lenName": 16,
    "lenType": 16,
    "lenVar": 40
   },
   "kernels_config": {
    "python": {
     "delete_cmd_postfix": "",
     "delete_cmd_prefix": "del ",
     "library": "var_list.py",
     "varRefreshCmd": "print(var_dic_list())"
    },
    "r": {
     "delete_cmd_postfix": ") ",
     "delete_cmd_prefix": "rm(",
     "library": "var_list.r",
     "varRefreshCmd": "cat(var_dic_list()) "
    }
   },
   "types_to_exclude": [
    "module",
    "function",
    "builtin_function_or_method",
    "instance",
    "_Feature"
   ],
   "window_display": false
  }
 },
 "nbformat": 4,
 "nbformat_minor": 4
}
